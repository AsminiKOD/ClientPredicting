{
  "nbformat": 4,
  "nbformat_minor": 0,
  "metadata": {
    "colab": {
      "provenance": [],
      "authorship_tag": "ABX9TyMh5N8IXCicXKGLUwjYGD4L",
      "include_colab_link": true
    },
    "kernelspec": {
      "name": "python3",
      "display_name": "Python 3"
    },
    "language_info": {
      "name": "python"
    }
  },
  "cells": [
    {
      "cell_type": "markdown",
      "metadata": {
        "id": "view-in-github",
        "colab_type": "text"
      },
      "source": [
        "<a href=\"https://colab.research.google.com/github/AsminiKOD/ClientPredicting/blob/Preprocessing/DataPreprocessing.ipynb\" target=\"_parent\"><img src=\"https://colab.research.google.com/assets/colab-badge.svg\" alt=\"Open In Colab\"/></a>"
      ]
    },
    {
      "cell_type": "markdown",
      "source": [
        "###Format CSV"
      ],
      "metadata": {
        "id": "mhaJuOJuKPM5"
      }
    },
    {
      "cell_type": "code",
      "source": [
        "import pandas as pd\n",
        "from google.colab import files"
      ],
      "metadata": {
        "id": "fslSQkfcKczx"
      },
      "execution_count": 1,
      "outputs": []
    },
    {
      "cell_type": "code",
      "execution_count": 2,
      "metadata": {
        "colab": {
          "base_uri": "https://localhost:8080/"
        },
        "id": "0s9dQOehF6Gg",
        "outputId": "61439360-8b84-4fec-f466-1c1c67e06756"
      },
      "outputs": [
        {
          "output_type": "stream",
          "name": "stdout",
          "text": [
            "   age        job  marital    education  default housing loan    contact  \\\n",
            "0   56  housemaid  married     basic.4y       no      no   no  telephone   \n",
            "1   57   services  married  high.school  unknown      no   no  telephone   \n",
            "2   37   services  married  high.school       no     yes   no  telephone   \n",
            "3   40     admin.  married     basic.6y       no      no   no  telephone   \n",
            "4   56   services  married  high.school       no      no  yes  telephone   \n",
            "\n",
            "  month day_of_week  ...  campaign  pdays  previous     poutcome emp.var.rate  \\\n",
            "0   may         mon  ...         1    999         0  nonexistent          1.1   \n",
            "1   may         mon  ...         1    999         0  nonexistent          1.1   \n",
            "2   may         mon  ...         1    999         0  nonexistent          1.1   \n",
            "3   may         mon  ...         1    999         0  nonexistent          1.1   \n",
            "4   may         mon  ...         1    999         0  nonexistent          1.1   \n",
            "\n",
            "   cons.price.idx  cons.conf.idx  euribor3m  nr.employed   y  \n",
            "0          93.994          -36.4      4.857       5191.0  no  \n",
            "1          93.994          -36.4      4.857       5191.0  no  \n",
            "2          93.994          -36.4      4.857       5191.0  no  \n",
            "3          93.994          -36.4      4.857       5191.0  no  \n",
            "4          93.994          -36.4      4.857       5191.0  no  \n",
            "\n",
            "[5 rows x 21 columns]\n"
          ]
        }
      ],
      "source": [
        "# Read the original CSV file with \";\" as the delimiter\n",
        "data = pd.read_csv('bank-additional-full.csv', sep=';', engine='python')\n",
        "\n",
        "# Overwrite the original CSV file with properly separated columns\n",
        "data.to_csv('bank.csv', index=False)\n",
        "\n",
        "# Display the first few rows to confirm the changes\n",
        "print(data.head())"
      ]
    },
    {
      "cell_type": "code",
      "source": [
        "# Download the updated file\n",
        "files.download('bank.csv')"
      ],
      "metadata": {
        "colab": {
          "base_uri": "https://localhost:8080/",
          "height": 17
        },
        "id": "WPzWOKSVPSee",
        "outputId": "5b865504-b30e-44d8-a994-1648873138b9"
      },
      "execution_count": 3,
      "outputs": [
        {
          "output_type": "display_data",
          "data": {
            "text/plain": [
              "<IPython.core.display.Javascript object>"
            ],
            "application/javascript": [
              "\n",
              "    async function download(id, filename, size) {\n",
              "      if (!google.colab.kernel.accessAllowed) {\n",
              "        return;\n",
              "      }\n",
              "      const div = document.createElement('div');\n",
              "      const label = document.createElement('label');\n",
              "      label.textContent = `Downloading \"${filename}\": `;\n",
              "      div.appendChild(label);\n",
              "      const progress = document.createElement('progress');\n",
              "      progress.max = size;\n",
              "      div.appendChild(progress);\n",
              "      document.body.appendChild(div);\n",
              "\n",
              "      const buffers = [];\n",
              "      let downloaded = 0;\n",
              "\n",
              "      const channel = await google.colab.kernel.comms.open(id);\n",
              "      // Send a message to notify the kernel that we're ready.\n",
              "      channel.send({})\n",
              "\n",
              "      for await (const message of channel.messages) {\n",
              "        // Send a message to notify the kernel that we're ready.\n",
              "        channel.send({})\n",
              "        if (message.buffers) {\n",
              "          for (const buffer of message.buffers) {\n",
              "            buffers.push(buffer);\n",
              "            downloaded += buffer.byteLength;\n",
              "            progress.value = downloaded;\n",
              "          }\n",
              "        }\n",
              "      }\n",
              "      const blob = new Blob(buffers, {type: 'application/binary'});\n",
              "      const a = document.createElement('a');\n",
              "      a.href = window.URL.createObjectURL(blob);\n",
              "      a.download = filename;\n",
              "      div.appendChild(a);\n",
              "      a.click();\n",
              "      div.remove();\n",
              "    }\n",
              "  "
            ]
          },
          "metadata": {}
        },
        {
          "output_type": "display_data",
          "data": {
            "text/plain": [
              "<IPython.core.display.Javascript object>"
            ],
            "application/javascript": [
              "download(\"download_f441d4a2-4944-4cfa-8c4e-4f62c0c674fd\", \"bank.csv\", 4912041)"
            ]
          },
          "metadata": {}
        }
      ]
    },
    {
      "cell_type": "markdown",
      "source": [
        "###Handle Missing Value"
      ],
      "metadata": {
        "id": "dSdvpuCygfpQ"
      }
    },
    {
      "cell_type": "code",
      "source": [
        "# Check for missing values\n",
        "print(data.isnull().sum())\n",
        "\n",
        "# Fill missing values for numeric columns with the median\n",
        "numeric_columns = data.select_dtypes(include=['number']).columns\n",
        "data[numeric_columns] = data[numeric_columns].fillna(data[numeric_columns].median())\n",
        "\n",
        "# Fill missing values for non-numeric columns with the mode (most frequent value)\n",
        "non_numeric_columns = data.select_dtypes(exclude=['number']).columns\n",
        "for col in non_numeric_columns:\n",
        "    data[col].fillna(data[col].mode()[0], inplace=True)\n",
        "\n",
        "# Save the dataset with handled missing values to another CSV file\n",
        "missing_values_handled_file_path = 'missing-values-handled.csv'\n",
        "data.to_csv(missing_values_handled_file_path, index=False)\n",
        "\n",
        "# Display the first few rows of the dataset\n",
        "print(data.head())"
      ],
      "metadata": {
        "colab": {
          "base_uri": "https://localhost:8080/"
        },
        "id": "8yJ7mq1-goRF",
        "outputId": "9285406a-73bd-4a4a-b48d-069ad350e362"
      },
      "execution_count": 4,
      "outputs": [
        {
          "output_type": "stream",
          "name": "stdout",
          "text": [
            "age               0\n",
            "job               0\n",
            "marital           0\n",
            "education         0\n",
            "default           0\n",
            "housing           0\n",
            "loan              0\n",
            "contact           0\n",
            "month             0\n",
            "day_of_week       0\n",
            "duration          0\n",
            "campaign          0\n",
            "pdays             0\n",
            "previous          0\n",
            "poutcome          0\n",
            "emp.var.rate      0\n",
            "cons.price.idx    0\n",
            "cons.conf.idx     0\n",
            "euribor3m         0\n",
            "nr.employed       0\n",
            "y                 0\n",
            "dtype: int64\n"
          ]
        },
        {
          "output_type": "stream",
          "name": "stderr",
          "text": [
            "<ipython-input-4-9a983167e5d8>:11: FutureWarning: A value is trying to be set on a copy of a DataFrame or Series through chained assignment using an inplace method.\n",
            "The behavior will change in pandas 3.0. This inplace method will never work because the intermediate object on which we are setting values always behaves as a copy.\n",
            "\n",
            "For example, when doing 'df[col].method(value, inplace=True)', try using 'df.method({col: value}, inplace=True)' or df[col] = df[col].method(value) instead, to perform the operation inplace on the original object.\n",
            "\n",
            "\n",
            "  data[col].fillna(data[col].mode()[0], inplace=True)\n"
          ]
        },
        {
          "output_type": "stream",
          "name": "stdout",
          "text": [
            "   age        job  marital    education  default housing loan    contact  \\\n",
            "0   56  housemaid  married     basic.4y       no      no   no  telephone   \n",
            "1   57   services  married  high.school  unknown      no   no  telephone   \n",
            "2   37   services  married  high.school       no     yes   no  telephone   \n",
            "3   40     admin.  married     basic.6y       no      no   no  telephone   \n",
            "4   56   services  married  high.school       no      no  yes  telephone   \n",
            "\n",
            "  month day_of_week  ...  campaign  pdays  previous     poutcome emp.var.rate  \\\n",
            "0   may         mon  ...         1    999         0  nonexistent          1.1   \n",
            "1   may         mon  ...         1    999         0  nonexistent          1.1   \n",
            "2   may         mon  ...         1    999         0  nonexistent          1.1   \n",
            "3   may         mon  ...         1    999         0  nonexistent          1.1   \n",
            "4   may         mon  ...         1    999         0  nonexistent          1.1   \n",
            "\n",
            "   cons.price.idx  cons.conf.idx  euribor3m  nr.employed   y  \n",
            "0          93.994          -36.4      4.857       5191.0  no  \n",
            "1          93.994          -36.4      4.857       5191.0  no  \n",
            "2          93.994          -36.4      4.857       5191.0  no  \n",
            "3          93.994          -36.4      4.857       5191.0  no  \n",
            "4          93.994          -36.4      4.857       5191.0  no  \n",
            "\n",
            "[5 rows x 21 columns]\n"
          ]
        }
      ]
    },
    {
      "cell_type": "code",
      "source": [
        "# Download the updated file\n",
        "files.download('missing-values-handled.csv')"
      ],
      "metadata": {
        "colab": {
          "base_uri": "https://localhost:8080/",
          "height": 17
        },
        "id": "atv6M4DKie_j",
        "outputId": "0487c832-5482-4ba4-ee1a-493e8bd894bd"
      },
      "execution_count": 5,
      "outputs": [
        {
          "output_type": "display_data",
          "data": {
            "text/plain": [
              "<IPython.core.display.Javascript object>"
            ],
            "application/javascript": [
              "\n",
              "    async function download(id, filename, size) {\n",
              "      if (!google.colab.kernel.accessAllowed) {\n",
              "        return;\n",
              "      }\n",
              "      const div = document.createElement('div');\n",
              "      const label = document.createElement('label');\n",
              "      label.textContent = `Downloading \"${filename}\": `;\n",
              "      div.appendChild(label);\n",
              "      const progress = document.createElement('progress');\n",
              "      progress.max = size;\n",
              "      div.appendChild(progress);\n",
              "      document.body.appendChild(div);\n",
              "\n",
              "      const buffers = [];\n",
              "      let downloaded = 0;\n",
              "\n",
              "      const channel = await google.colab.kernel.comms.open(id);\n",
              "      // Send a message to notify the kernel that we're ready.\n",
              "      channel.send({})\n",
              "\n",
              "      for await (const message of channel.messages) {\n",
              "        // Send a message to notify the kernel that we're ready.\n",
              "        channel.send({})\n",
              "        if (message.buffers) {\n",
              "          for (const buffer of message.buffers) {\n",
              "            buffers.push(buffer);\n",
              "            downloaded += buffer.byteLength;\n",
              "            progress.value = downloaded;\n",
              "          }\n",
              "        }\n",
              "      }\n",
              "      const blob = new Blob(buffers, {type: 'application/binary'});\n",
              "      const a = document.createElement('a');\n",
              "      a.href = window.URL.createObjectURL(blob);\n",
              "      a.download = filename;\n",
              "      div.appendChild(a);\n",
              "      a.click();\n",
              "      div.remove();\n",
              "    }\n",
              "  "
            ]
          },
          "metadata": {}
        },
        {
          "output_type": "display_data",
          "data": {
            "text/plain": [
              "<IPython.core.display.Javascript object>"
            ],
            "application/javascript": [
              "download(\"download_085fdc3d-da4e-4df2-9a8d-36eab5b22a0c\", \"missing-values-handled.csv\", 4912041)"
            ]
          },
          "metadata": {}
        }
      ]
    },
    {
      "cell_type": "markdown",
      "source": [
        "###Handle Duplicate"
      ],
      "metadata": {
        "id": "fa3UUUu_bG_4"
      }
    },
    {
      "cell_type": "code",
      "source": [
        "# Check for duplicate rows\n",
        "duplicate_count = data.duplicated().sum()\n",
        "print(f\"Number of duplicate rows: {duplicate_count}\")\n",
        "\n",
        "# Drop duplicate rows\n",
        "data = data.drop_duplicates()\n",
        "\n",
        "# Save the dataset after removing duplicates to another CSV file\n",
        "duplicates_handled_file_path = 'duplicates-handled.csv'\n",
        "data.to_csv(duplicates_handled_file_path, index=False)\n",
        "\n",
        "# Display the first few rows of the dataset after handling duplicates\n",
        "print(data.head())\n"
      ],
      "metadata": {
        "colab": {
          "base_uri": "https://localhost:8080/"
        },
        "id": "Q48mESztbMN5",
        "outputId": "34bfac42-b86a-4819-c501-9c43fa263f9c"
      },
      "execution_count": 6,
      "outputs": [
        {
          "output_type": "stream",
          "name": "stdout",
          "text": [
            "Number of duplicate rows: 12\n",
            "   age        job  marital    education  default housing loan    contact  \\\n",
            "0   56  housemaid  married     basic.4y       no      no   no  telephone   \n",
            "1   57   services  married  high.school  unknown      no   no  telephone   \n",
            "2   37   services  married  high.school       no     yes   no  telephone   \n",
            "3   40     admin.  married     basic.6y       no      no   no  telephone   \n",
            "4   56   services  married  high.school       no      no  yes  telephone   \n",
            "\n",
            "  month day_of_week  ...  campaign  pdays  previous     poutcome emp.var.rate  \\\n",
            "0   may         mon  ...         1    999         0  nonexistent          1.1   \n",
            "1   may         mon  ...         1    999         0  nonexistent          1.1   \n",
            "2   may         mon  ...         1    999         0  nonexistent          1.1   \n",
            "3   may         mon  ...         1    999         0  nonexistent          1.1   \n",
            "4   may         mon  ...         1    999         0  nonexistent          1.1   \n",
            "\n",
            "   cons.price.idx  cons.conf.idx  euribor3m  nr.employed   y  \n",
            "0          93.994          -36.4      4.857       5191.0  no  \n",
            "1          93.994          -36.4      4.857       5191.0  no  \n",
            "2          93.994          -36.4      4.857       5191.0  no  \n",
            "3          93.994          -36.4      4.857       5191.0  no  \n",
            "4          93.994          -36.4      4.857       5191.0  no  \n",
            "\n",
            "[5 rows x 21 columns]\n"
          ]
        }
      ]
    },
    {
      "cell_type": "code",
      "source": [
        "# Download the updated file\n",
        "files.download('duplicates-handled.csv')"
      ],
      "metadata": {
        "id": "luIRwMvecBC2",
        "colab": {
          "base_uri": "https://localhost:8080/",
          "height": 17
        },
        "outputId": "0bc3b13f-87b1-44ed-d46c-9c644690b045"
      },
      "execution_count": 7,
      "outputs": [
        {
          "output_type": "display_data",
          "data": {
            "text/plain": [
              "<IPython.core.display.Javascript object>"
            ],
            "application/javascript": [
              "\n",
              "    async function download(id, filename, size) {\n",
              "      if (!google.colab.kernel.accessAllowed) {\n",
              "        return;\n",
              "      }\n",
              "      const div = document.createElement('div');\n",
              "      const label = document.createElement('label');\n",
              "      label.textContent = `Downloading \"${filename}\": `;\n",
              "      div.appendChild(label);\n",
              "      const progress = document.createElement('progress');\n",
              "      progress.max = size;\n",
              "      div.appendChild(progress);\n",
              "      document.body.appendChild(div);\n",
              "\n",
              "      const buffers = [];\n",
              "      let downloaded = 0;\n",
              "\n",
              "      const channel = await google.colab.kernel.comms.open(id);\n",
              "      // Send a message to notify the kernel that we're ready.\n",
              "      channel.send({})\n",
              "\n",
              "      for await (const message of channel.messages) {\n",
              "        // Send a message to notify the kernel that we're ready.\n",
              "        channel.send({})\n",
              "        if (message.buffers) {\n",
              "          for (const buffer of message.buffers) {\n",
              "            buffers.push(buffer);\n",
              "            downloaded += buffer.byteLength;\n",
              "            progress.value = downloaded;\n",
              "          }\n",
              "        }\n",
              "      }\n",
              "      const blob = new Blob(buffers, {type: 'application/binary'});\n",
              "      const a = document.createElement('a');\n",
              "      a.href = window.URL.createObjectURL(blob);\n",
              "      a.download = filename;\n",
              "      div.appendChild(a);\n",
              "      a.click();\n",
              "      div.remove();\n",
              "    }\n",
              "  "
            ]
          },
          "metadata": {}
        },
        {
          "output_type": "display_data",
          "data": {
            "text/plain": [
              "<IPython.core.display.Javascript object>"
            ],
            "application/javascript": [
              "download(\"download_12bc3755-fb48-400f-b5fc-a752b3363806\", \"duplicates-handled.csv\", 4910606)"
            ]
          },
          "metadata": {}
        }
      ]
    },
    {
      "cell_type": "markdown",
      "source": [
        "###Feature Importance"
      ],
      "metadata": {
        "id": "zblrSkcU7Vyc"
      }
    },
    {
      "cell_type": "code",
      "source": [
        "from sklearn.ensemble import RandomForestClassifier\n",
        "import pandas as pd\n",
        "import matplotlib.pyplot as plt\n",
        "from sklearn.preprocessing import LabelEncoder"
      ],
      "metadata": {
        "id": "xLLVTXNU8xM9"
      },
      "execution_count": 8,
      "outputs": []
    },
    {
      "cell_type": "code",
      "source": [
        "# Load the dataset\n",
        "data = pd.read_csv('duplicates-handled.csv')\n",
        "\n",
        "# Initialize LabelEncoder\n",
        "label_encoder = LabelEncoder()\n",
        "\n",
        "# Encode the target variable as integers\n",
        "y = label_encoder.fit_transform(data['y'])\n",
        "\n",
        "# Encode all categorical features\n",
        "categorical_columns = data.select_dtypes(include=['object']).columns\n",
        "for col in categorical_columns:\n",
        "    if col != 'y':  # Skip the target variable\n",
        "        data[col] = label_encoder.fit_transform(data[col])\n",
        "\n",
        "# Split features and target variable\n",
        "X = data.drop('y', axis=1)\n",
        "\n",
        "# Train a Random Forest model\n",
        "rf = RandomForestClassifier(random_state=42)\n",
        "rf.fit(X, y)\n",
        "\n",
        "# Extract feature importances\n",
        "feature_importances = pd.Series(rf.feature_importances_, index=X.columns)\n",
        "\n",
        "# Sort features by importance\n",
        "sorted_features = feature_importances.sort_values(ascending=False)\n",
        "\n",
        "# Visualize feature importances\n",
        "plt.figure(figsize=(10, 6))\n",
        "sorted_features.plot(kind='bar', color='skyblue')\n",
        "plt.title('Feature Importances')\n",
        "plt.xlabel('Features')\n",
        "plt.ylabel('Importance Score')\n",
        "plt.show()\n"
      ],
      "metadata": {
        "id": "RxP8VHrB7pfw",
        "colab": {
          "base_uri": "https://localhost:8080/",
          "height": 646
        },
        "outputId": "71fa8e4e-8847-4c73-dc59-e427061d7768"
      },
      "execution_count": 9,
      "outputs": [
        {
          "output_type": "display_data",
          "data": {
            "text/plain": [
              "<Figure size 1000x600 with 1 Axes>"
            ],
            "image/png": "[encoded data removed]"
          },
          "metadata": {}
        }
      ]
    },
    {
      "cell_type": "markdown",
      "source": [
        "###Feature Selection"
      ],
      "metadata": {
        "id": "hASALdjNZ4KK"
      }
    },
    {
      "cell_type": "code",
      "source": [
        "# Drop the specified columns\n",
        "data = pd.read_csv('duplicates-handled.csv')\n",
        "data_cleaned = data.drop(['duration', 'contact', 'default'], axis=1)\n",
        "\n",
        "# Save the cleaned dataset to a new CSV file\n",
        "data_cleaned.to_csv('Feature_selection.csv', index=False)\n",
        "\n",
        "# Verify the new dataset by displaying the first few rows\n",
        "print(data_cleaned.head())"
      ],
      "metadata": {
        "colab": {
          "base_uri": "https://localhost:8080/"
        },
        "id": "WNyVS4xnaHRG",
        "outputId": "204a7a65-be22-4417-e35e-716dec44a857"
      },
      "execution_count": 10,
      "outputs": [
        {
          "output_type": "stream",
          "name": "stdout",
          "text": [
            "   age        job  marital    education housing loan month day_of_week  \\\n",
            "0   56  housemaid  married     basic.4y      no   no   may         mon   \n",
            "1   57   services  married  high.school      no   no   may         mon   \n",
            "2   37   services  married  high.school     yes   no   may         mon   \n",
            "3   40     admin.  married     basic.6y      no   no   may         mon   \n",
            "4   56   services  married  high.school      no  yes   may         mon   \n",
            "\n",
            "   campaign  pdays  previous     poutcome  emp.var.rate  cons.price.idx  \\\n",
            "0         1    999         0  nonexistent           1.1          93.994   \n",
            "1         1    999         0  nonexistent           1.1          93.994   \n",
            "2         1    999         0  nonexistent           1.1          93.994   \n",
            "3         1    999         0  nonexistent           1.1          93.994   \n",
            "4         1    999         0  nonexistent           1.1          93.994   \n",
            "\n",
            "   cons.conf.idx  euribor3m  nr.employed   y  \n",
            "0          -36.4      4.857       5191.0  no  \n",
            "1          -36.4      4.857       5191.0  no  \n",
            "2          -36.4      4.857       5191.0  no  \n",
            "3          -36.4      4.857       5191.0  no  \n",
            "4          -36.4      4.857       5191.0  no  \n"
          ]
        }
      ]
    },
    {
      "cell_type": "code",
      "source": [
        "# Download the updated file\n",
        "files.download('Feature_selection.csv')"
      ],
      "metadata": {
        "id": "7aBx6PfgwC62",
        "colab": {
          "base_uri": "https://localhost:8080/",
          "height": 17
        },
        "outputId": "34219be9-0741-443b-c5eb-58f9a97184de"
      },
      "execution_count": 11,
      "outputs": [
        {
          "output_type": "display_data",
          "data": {
            "text/plain": [
              "<IPython.core.display.Javascript object>"
            ],
            "application/javascript": [
              "\n",
              "    async function download(id, filename, size) {\n",
              "      if (!google.colab.kernel.accessAllowed) {\n",
              "        return;\n",
              "      }\n",
              "      const div = document.createElement('div');\n",
              "      const label = document.createElement('label');\n",
              "      label.textContent = `Downloading \"${filename}\": `;\n",
              "      div.appendChild(label);\n",
              "      const progress = document.createElement('progress');\n",
              "      progress.max = size;\n",
              "      div.appendChild(progress);\n",
              "      document.body.appendChild(div);\n",
              "\n",
              "      const buffers = [];\n",
              "      let downloaded = 0;\n",
              "\n",
              "      const channel = await google.colab.kernel.comms.open(id);\n",
              "      // Send a message to notify the kernel that we're ready.\n",
              "      channel.send({})\n",
              "\n",
              "      for await (const message of channel.messages) {\n",
              "        // Send a message to notify the kernel that we're ready.\n",
              "        channel.send({})\n",
              "        if (message.buffers) {\n",
              "          for (const buffer of message.buffers) {\n",
              "            buffers.push(buffer);\n",
              "            downloaded += buffer.byteLength;\n",
              "            progress.value = downloaded;\n",
              "          }\n",
              "        }\n",
              "      }\n",
              "      const blob = new Blob(buffers, {type: 'application/binary'});\n",
              "      const a = document.createElement('a');\n",
              "      a.href = window.URL.createObjectURL(blob);\n",
              "      a.download = filename;\n",
              "      div.appendChild(a);\n",
              "      a.click();\n",
              "      div.remove();\n",
              "    }\n",
              "  "
            ]
          },
          "metadata": {}
        },
        {
          "output_type": "display_data",
          "data": {
            "text/plain": [
              "<IPython.core.display.Javascript object>"
            ],
            "application/javascript": [
              "download(\"download_52f64e07-c161-40ad-894d-8f93f340c3f2\", \"Feature_selection.csv\", 4202949)"
            ]
          },
          "metadata": {}
        }
      ]
    },
    {
      "cell_type": "code",
      "source": [
        "from sklearn.ensemble import RandomForestClassifier\n",
        "import pandas as pd\n",
        "import matplotlib.pyplot as plt\n",
        "from sklearn.preprocessing import LabelEncoder"
      ],
      "metadata": {
        "id": "OX-33swRw0UI"
      },
      "execution_count": 12,
      "outputs": []
    },
    {
      "cell_type": "code",
      "source": [
        "# Load the cleaned dataset\n",
        "data_cleaned = pd.read_csv('Feature_selection.csv')\n",
        "\n",
        "# Initialize LabelEncoder\n",
        "label_encoder = LabelEncoder()\n",
        "\n",
        "# Encode the target variable as integers\n",
        "y = label_encoder.fit_transform(data_cleaned['y'])\n",
        "\n",
        "# Encode all categorical features\n",
        "categorical_columns = data_cleaned.select_dtypes(include=['object']).columns\n",
        "for col in categorical_columns:\n",
        "    if col != 'y':  # Skip the target variable\n",
        "        data_cleaned[col] = label_encoder.fit_transform(data_cleaned[col])\n",
        "\n",
        "# Split features and target variable\n",
        "X_cleaned = data_cleaned.drop('y', axis=1)\n",
        "\n",
        "# Train a Random Forest model\n",
        "rf = RandomForestClassifier(random_state=42)\n",
        "rf.fit(X_cleaned, y)\n",
        "\n",
        "# Extract feature importances\n",
        "feature_importances = pd.Series(rf.feature_importances_, index=X_cleaned.columns)\n",
        "\n",
        "# Sort features by importance\n",
        "sorted_features = feature_importances.sort_values(ascending=False)\n",
        "\n",
        "# Display the most important features\n",
        "print(sorted_features)\n",
        "\n",
        "# Visualize feature importances\n",
        "plt.figure(figsize=(10, 8))\n",
        "sorted_features.plot(kind='bar', color='skyblue')\n",
        "plt.title('Updated Feature Importances')\n",
        "plt.xlabel('Features')\n",
        "plt.ylabel('Importance Score')\n",
        "plt.show()\n"
      ],
      "metadata": {
        "colab": {
          "base_uri": "https://localhost:8080/",
          "height": 1000
        },
        "id": "vky5HjE2wXKu",
        "outputId": "cdb03b34-d222-4f0f-a6a3-68c8bd352405"
      },
      "execution_count": 13,
      "outputs": [
        {
          "output_type": "stream",
          "name": "stdout",
          "text": [
            "age               0.198561\n",
            "euribor3m         0.135008\n",
            "campaign          0.091891\n",
            "job               0.089242\n",
            "education         0.079229\n",
            "nr.employed       0.077060\n",
            "day_of_week       0.058839\n",
            "marital           0.042199\n",
            "pdays             0.039093\n",
            "housing           0.038870\n",
            "poutcome          0.028871\n",
            "loan              0.027427\n",
            "emp.var.rate      0.022736\n",
            "cons.conf.idx     0.020982\n",
            "cons.price.idx    0.018147\n",
            "previous          0.015971\n",
            "month             0.015875\n",
            "dtype: float64\n"
          ]
        },
        {
          "output_type": "display_data",
          "data": {
            "text/plain": [
              "<Figure size 1000x800 with 1 Axes>"
            ],
            "image/png": "[encoded data removed]"
          },
          "metadata": {}
        }
      ]
    },
    {
      "cell_type": "markdown",
      "source": [
        "###Outlier detection"
      ],
      "metadata": {
        "id": "wMX1-17uESHe"
      }
    },
    {
      "cell_type": "code",
      "source": [
        "import pandas as pd\n",
        "import matplotlib.pyplot as plt"
      ],
      "metadata": {
        "id": "KJmgtVdBEbWC"
      },
      "execution_count": 14,
      "outputs": []
    },
    {
      "cell_type": "code",
      "source": [
        "# Load the dataset\n",
        "data = pd.read_csv('Feature_selection.csv')\n",
        "\n",
        "# Identify numerical columns\n",
        "numerical_columns = data.select_dtypes(include=['int64', 'float64']).columns\n",
        "\n",
        "# Plot box plots for each numerical column\n",
        "plt.figure(figsize=(15, 10))\n",
        "for i, column in enumerate(numerical_columns, 1):\n",
        "    plt.subplot(len(numerical_columns) // 3 + 1, 3, i)  # Arrange plots in rows of 3\n",
        "    plt.boxplot(data[column], vert=False, patch_artist=True, boxprops=dict(facecolor='skyblue'))\n",
        "    plt.title(column)\n",
        "\n",
        "plt.tight_layout()\n",
        "plt.show()\n"
      ],
      "metadata": {
        "colab": {
          "base_uri": "https://localhost:8080/",
          "height": 455
        },
        "id": "XyF4wrClERLu",
        "outputId": "d1af471b-e4b6-45ac-bcb6-7c41fbf540b3"
      },
      "execution_count": 15,
      "outputs": [
        {
          "output_type": "display_data",
          "data": {
            "text/plain": [
              "<Figure size 1500x1000 with 9 Axes>"
            ],
            "image/png": "[encoded data removed]"
          },
          "metadata": {}
        }
      ]
    },
    {
      "cell_type": "markdown",
      "source": [
        "###Outlier Handling"
      ],
      "metadata": {
        "id": "R_1hWsK13wG2"
      }
    },
    {
      "cell_type": "code",
      "source": [],
      "metadata": {
        "id": "3Az2hHNJ34KV"
      },
      "execution_count": null,
      "outputs": []
    },
    {
      "cell_type": "markdown",
      "source": [
        "###Data Encoding"
      ],
      "metadata": {
        "id": "or0XVSUKXqz1"
      }
    },
    {
      "cell_type": "code",
      "source": [
        "import pandas as pd\n",
        "from sklearn.preprocessing import LabelEncoder\n",
        "from google.colab import files"
      ],
      "metadata": {
        "id": "ljl90oHEdbvn"
      },
      "execution_count": 16,
      "outputs": []
    },
    {
      "cell_type": "code",
      "source": [
        "# Load the dataset\n",
        "data = pd.read_csv('Feature_selection.csv')\n",
        "\n",
        "# Identify categorical columns for one-hot encoding and label encoding\n",
        "one_hot_columns = ['marital', 'education', 'housing', 'loan','poutcome','job', 'month', 'day_of_week']  # Categorical with few unique values\n",
        "label_encoding_columns = ['y']\n",
        "\n",
        "# Apply one-hot encoding\n",
        "data = pd.get_dummies(data, columns=one_hot_columns, drop_first=True)\n",
        "\n",
        "# Apply label encoding\n",
        "label_encoders = {}\n",
        "for column in label_encoding_columns:\n",
        "    le = LabelEncoder()\n",
        "    data[column] = le.fit_transform(data[column])\n",
        "    label_encoders[column] = le\n",
        "\n",
        "# Convert True/False columns to 1/0\n",
        "boolean_columns = data.select_dtypes(include=['bool']).columns\n",
        "for column in boolean_columns:\n",
        "    data[column] = data[column].astype(int)\n",
        "\n",
        "# Save the encoded dataset to a new CSV file\n",
        "encoded_file_path = 'bank-encoded.csv'\n",
        "data.to_csv(encoded_file_path, index=False)\n",
        "\n",
        "# Display the first few rows of the encoded dataset\n",
        "print(data.head())\n"
      ],
      "metadata": {
        "colab": {
          "base_uri": "https://localhost:8080/"
        },
        "id": "-yjxIUhZcpfA",
        "outputId": "102f7796-704b-4c16-d1ea-5f825fc64d81"
      },
      "execution_count": 17,
      "outputs": [
        {
          "output_type": "stream",
          "name": "stdout",
          "text": [
            "   age  campaign  pdays  previous  emp.var.rate  cons.price.idx  \\\n",
            "0   56         1    999         0           1.1          93.994   \n",
            "1   57         1    999         0           1.1          93.994   \n",
            "2   37         1    999         0           1.1          93.994   \n",
            "3   40         1    999         0           1.1          93.994   \n",
            "4   56         1    999         0           1.1          93.994   \n",
            "\n",
            "   cons.conf.idx  euribor3m  nr.employed  y  ...  month_jun  month_mar  \\\n",
            "0          -36.4      4.857       5191.0  0  ...          0          0   \n",
            "1          -36.4      4.857       5191.0  0  ...          0          0   \n",
            "2          -36.4      4.857       5191.0  0  ...          0          0   \n",
            "3          -36.4      4.857       5191.0  0  ...          0          0   \n",
            "4          -36.4      4.857       5191.0  0  ...          0          0   \n",
            "\n",
            "   month_may  month_nov  month_oct  month_sep  day_of_week_mon  \\\n",
            "0          1          0          0          0                1   \n",
            "1          1          0          0          0                1   \n",
            "2          1          0          0          0                1   \n",
            "3          1          0          0          0                1   \n",
            "4          1          0          0          0                1   \n",
            "\n",
            "   day_of_week_thu  day_of_week_tue  day_of_week_wed  \n",
            "0                0                0                0  \n",
            "1                0                0                0  \n",
            "2                0                0                0  \n",
            "3                0                0                0  \n",
            "4                0                0                0  \n",
            "\n",
            "[5 rows x 50 columns]\n"
          ]
        }
      ]
    },
    {
      "cell_type": "code",
      "source": [
        "# Download the updated file\n",
        "files.download('bank-encoded.csv')"
      ],
      "metadata": {
        "colab": {
          "base_uri": "https://localhost:8080/",
          "height": 17
        },
        "id": "typ-pahrdp74",
        "outputId": "8f3f165f-86d2-46f0-921e-e8945165b072"
      },
      "execution_count": 18,
      "outputs": [
        {
          "output_type": "display_data",
          "data": {
            "text/plain": [
              "<IPython.core.display.Javascript object>"
            ],
            "application/javascript": [
              "\n",
              "    async function download(id, filename, size) {\n",
              "      if (!google.colab.kernel.accessAllowed) {\n",
              "        return;\n",
              "      }\n",
              "      const div = document.createElement('div');\n",
              "      const label = document.createElement('label');\n",
              "      label.textContent = `Downloading \"${filename}\": `;\n",
              "      div.appendChild(label);\n",
              "      const progress = document.createElement('progress');\n",
              "      progress.max = size;\n",
              "      div.appendChild(progress);\n",
              "      document.body.appendChild(div);\n",
              "\n",
              "      const buffers = [];\n",
              "      let downloaded = 0;\n",
              "\n",
              "      const channel = await google.colab.kernel.comms.open(id);\n",
              "      // Send a message to notify the kernel that we're ready.\n",
              "      channel.send({})\n",
              "\n",
              "      for await (const message of channel.messages) {\n",
              "        // Send a message to notify the kernel that we're ready.\n",
              "        channel.send({})\n",
              "        if (message.buffers) {\n",
              "          for (const buffer of message.buffers) {\n",
              "            buffers.push(buffer);\n",
              "            downloaded += buffer.byteLength;\n",
              "            progress.value = downloaded;\n",
              "          }\n",
              "        }\n",
              "      }\n",
              "      const blob = new Blob(buffers, {type: 'application/binary'});\n",
              "      const a = document.createElement('a');\n",
              "      a.href = window.URL.createObjectURL(blob);\n",
              "      a.download = filename;\n",
              "      div.appendChild(a);\n",
              "      a.click();\n",
              "      div.remove();\n",
              "    }\n",
              "  "
            ]
          },
          "metadata": {}
        },
        {
          "output_type": "display_data",
          "data": {
            "text/plain": [
              "<IPython.core.display.Javascript object>"
            ],
            "application/javascript": [
              "download(\"download_15087f3a-d8d5-4285-adc3-190c2a340b10\", \"bank-encoded.csv\", 5069040)"
            ]
          },
          "metadata": {}
        }
      ]
    },
    {
      "cell_type": "markdown",
      "source": [
        "###Pdays"
      ],
      "metadata": {
        "id": "vswHEVOwMDWr"
      }
    },
    {
      "cell_type": "code",
      "source": [
        "# Replace 999 with 0 and other values with 1 in the 'pdays' column\n",
        "data['pdays'] = data['pdays'].apply(lambda x: 0 if x == 999 else 1)\n",
        "\n",
        "# Reorder columns to display 'y' at the last\n",
        "columns = [col for col in data.columns if col != 'y'] + ['y']\n",
        "data = data[columns]\n",
        "\n",
        "# Save the updated dataset to a new CSV file\n",
        "encoded_file_path = 'bank-encoded-updated.csv'\n",
        "data.to_csv(encoded_file_path, index=False)\n",
        "\n",
        "# Display the first few rows of the updated dataset\n",
        "print(data.head())\n"
      ],
      "metadata": {
        "colab": {
          "base_uri": "https://localhost:8080/"
        },
        "id": "8Yy56L-eMMgI",
        "outputId": "38e9b061-ff60-4048-ed60-0c9b2b49a070"
      },
      "execution_count": 19,
      "outputs": [
        {
          "output_type": "stream",
          "name": "stdout",
          "text": [
            "   age  campaign  pdays  previous  emp.var.rate  cons.price.idx  \\\n",
            "0   56         1      0         0           1.1          93.994   \n",
            "1   57         1      0         0           1.1          93.994   \n",
            "2   37         1      0         0           1.1          93.994   \n",
            "3   40         1      0         0           1.1          93.994   \n",
            "4   56         1      0         0           1.1          93.994   \n",
            "\n",
            "   cons.conf.idx  euribor3m  nr.employed  marital_married  ...  month_mar  \\\n",
            "0          -36.4      4.857       5191.0                1  ...          0   \n",
            "1          -36.4      4.857       5191.0                1  ...          0   \n",
            "2          -36.4      4.857       5191.0                1  ...          0   \n",
            "3          -36.4      4.857       5191.0                1  ...          0   \n",
            "4          -36.4      4.857       5191.0                1  ...          0   \n",
            "\n",
            "   month_may  month_nov  month_oct  month_sep  day_of_week_mon  \\\n",
            "0          1          0          0          0                1   \n",
            "1          1          0          0          0                1   \n",
            "2          1          0          0          0                1   \n",
            "3          1          0          0          0                1   \n",
            "4          1          0          0          0                1   \n",
            "\n",
            "   day_of_week_thu  day_of_week_tue  day_of_week_wed  y  \n",
            "0                0                0                0  0  \n",
            "1                0                0                0  0  \n",
            "2                0                0                0  0  \n",
            "3                0                0                0  0  \n",
            "4                0                0                0  0  \n",
            "\n",
            "[5 rows x 50 columns]\n"
          ]
        }
      ]
    },
    {
      "cell_type": "code",
      "source": [
        "# Download the updated file\n",
        "files.download('bank-encoded-updated.csv')"
      ],
      "metadata": {
        "id": "KF6EHKf4Mo4L",
        "colab": {
          "base_uri": "https://localhost:8080/",
          "height": 17
        },
        "outputId": "8b179c9e-7be5-4fe1-d78b-f19bea20a544"
      },
      "execution_count": 20,
      "outputs": [
        {
          "output_type": "display_data",
          "data": {
            "text/plain": [
              "<IPython.core.display.Javascript object>"
            ],
            "application/javascript": [
              "\n",
              "    async function download(id, filename, size) {\n",
              "      if (!google.colab.kernel.accessAllowed) {\n",
              "        return;\n",
              "      }\n",
              "      const div = document.createElement('div');\n",
              "      const label = document.createElement('label');\n",
              "      label.textContent = `Downloading \"${filename}\": `;\n",
              "      div.appendChild(label);\n",
              "      const progress = document.createElement('progress');\n",
              "      progress.max = size;\n",
              "      div.appendChild(progress);\n",
              "      document.body.appendChild(div);\n",
              "\n",
              "      const buffers = [];\n",
              "      let downloaded = 0;\n",
              "\n",
              "      const channel = await google.colab.kernel.comms.open(id);\n",
              "      // Send a message to notify the kernel that we're ready.\n",
              "      channel.send({})\n",
              "\n",
              "      for await (const message of channel.messages) {\n",
              "        // Send a message to notify the kernel that we're ready.\n",
              "        channel.send({})\n",
              "        if (message.buffers) {\n",
              "          for (const buffer of message.buffers) {\n",
              "            buffers.push(buffer);\n",
              "            downloaded += buffer.byteLength;\n",
              "            progress.value = downloaded;\n",
              "          }\n",
              "        }\n",
              "      }\n",
              "      const blob = new Blob(buffers, {type: 'application/binary'});\n",
              "      const a = document.createElement('a');\n",
              "      a.href = window.URL.createObjectURL(blob);\n",
              "      a.download = filename;\n",
              "      div.appendChild(a);\n",
              "      a.click();\n",
              "      div.remove();\n",
              "    }\n",
              "  "
            ]
          },
          "metadata": {}
        },
        {
          "output_type": "display_data",
          "data": {
            "text/plain": [
              "<IPython.core.display.Javascript object>"
            ],
            "application/javascript": [
              "download(\"download_8e99514a-8b3d-44d8-9b1f-0bfba8d81120\", \"bank-encoded-updated.csv\", 4989462)"
            ]
          },
          "metadata": {}
        }
      ]
    },
    {
      "cell_type": "markdown",
      "source": [
        "###Class Imbalance"
      ],
      "metadata": {
        "id": "qoxxbH2T41UT"
      }
    },
    {
      "cell_type": "code",
      "source": [
        "import pandas as pd\n",
        "import matplotlib.pyplot as plt"
      ],
      "metadata": {
        "id": "HZ3AOEFU40AZ"
      },
      "execution_count": 21,
      "outputs": []
    },
    {
      "cell_type": "code",
      "source": [
        "# Load the scaled dataset\n",
        "data = pd.read_csv('bank-encoded-updated.csv')\n",
        "\n",
        "# Check the distribution of the target variable 'y'\n",
        "target_counts = data['y'].value_counts()\n",
        "\n",
        "# Display the counts for each class\n",
        "print(target_counts)\n",
        "\n",
        "# Visualize the class distribution using a pie chart\n",
        "plt.figure(figsize=(6, 6))\n",
        "plt.pie(target_counts, labels=target_counts.index, autopct='%1.1f%%', startangle=90, colors=['skyblue', 'salmon'])\n",
        "plt.title('Class Distribution of Target Variable (y)')\n",
        "plt.show()"
      ],
      "metadata": {
        "colab": {
          "base_uri": "https://localhost:8080/",
          "height": 590
        },
        "id": "RM0_3rDR6XKo",
        "outputId": "2c97d365-e73c-4734-8790-f84bcb9acdbb"
      },
      "execution_count": 22,
      "outputs": [
        {
          "output_type": "stream",
          "name": "stdout",
          "text": [
            "y\n",
            "0    36537\n",
            "1     4639\n",
            "Name: count, dtype: int64\n"
          ]
        },
        {
          "output_type": "display_data",
          "data": {
            "text/plain": [
              "<Figure size 600x600 with 1 Axes>"
            ],
            "image/png": "[encoded data removed]"
          },
          "metadata": {}
        }
      ]
    },
    {
      "cell_type": "markdown",
      "source": [
        "###Feature Scaling"
      ],
      "metadata": {
        "id": "BA1gRcHkNq92"
      }
    },
    {
      "cell_type": "code",
      "source": [
        "import pandas as pd\n",
        "from sklearn.preprocessing import StandardScaler"
      ],
      "metadata": {
        "id": "xrTG1tsj2ulo"
      },
      "execution_count": null,
      "outputs": []
    },
    {
      "cell_type": "code",
      "source": [
        "# Load the dataset\n",
        "data = pd.read_csv('missing-values-handled.csv')\n",
        "\n",
        "# Identify numerical columns for scaling\n",
        "numerical_columns = data.select_dtypes(include=['int64', 'float64']).columns\n",
        "\n",
        "# Apply StandardScaler to scale numerical features\n",
        "scaler = StandardScaler()\n",
        "data[numerical_columns] = scaler.fit_transform(data[numerical_columns])\n",
        "\n",
        "# Save the scaled dataset to a new CSV file\n",
        "scaled_file_path = 'bank-scaled.csv'\n",
        "data.to_csv(scaled_file_path, index=False)\n",
        "\n",
        "# Display the first few rows of the scaled dataset\n",
        "print(data.head())\n"
      ],
      "metadata": {
        "id": "tdNG1fL9O28O",
        "outputId": "acc1b8b1-e0a2-4ccc-c242-3a84ccdf3e56",
        "colab": {
          "base_uri": "https://localhost:8080/"
        }
      },
      "execution_count": null,
      "outputs": [
        {
          "output_type": "stream",
          "name": "stdout",
          "text": [
            "        age       job   marital  education   default   housing      loan  \\\n",
            "0  1.533034 -0.201579 -0.283741  -1.753925 -0.513600 -1.087707 -0.452491   \n",
            "1  1.628993  0.911227 -0.283741  -0.349730  1.945327 -1.087707 -0.452491   \n",
            "2 -0.290186  0.911227 -0.283741  -0.349730 -0.513600  0.942127 -0.452491   \n",
            "3 -0.002309 -1.036184 -0.283741  -1.285860 -0.513600 -1.087707 -0.452491   \n",
            "4  1.533034  0.911227 -0.283741  -0.349730 -0.513600 -1.087707  2.311440   \n",
            "\n",
            "   contact     month  day_of_week  ...  campaign     pdays  previous  \\\n",
            "0  1.31827  0.762558    -0.718834  ... -0.567968  0.191842 -0.349494   \n",
            "1  1.31827  0.762558    -0.718834  ... -0.567968  0.191842 -0.349494   \n",
            "2  1.31827  0.762558    -0.718834  ... -0.567968  0.191842 -0.349494   \n",
            "3  1.31827  0.762558    -0.718834  ... -0.567968  0.191842 -0.349494   \n",
            "4  1.31827  0.762558    -0.718834  ... -0.567968  0.191842 -0.349494   \n",
            "\n",
            "   poutcome  emp.var.rate  cons.price.idx  cons.conf.idx  euribor3m  \\\n",
            "0  0.192622      0.504484        0.684076       0.947396   0.456785   \n",
            "1  0.192622      0.504484        0.684076       0.947396   0.456785   \n",
            "2  0.192622      0.504484        0.684076       0.947396   0.456785   \n",
            "3  0.192622      0.504484        0.684076       0.947396   0.456785   \n",
            "4  0.192622      0.504484        0.684076       0.947396   0.456785   \n",
            "\n",
            "   nr.employed         y  \n",
            "0     0.062804 -0.356309  \n",
            "1     0.062804 -0.356309  \n",
            "2     0.062804 -0.356309  \n",
            "3     0.062804 -0.356309  \n",
            "4     0.062804 -0.356309  \n",
            "\n",
            "[5 rows x 21 columns]\n"
          ]
        }
      ]
    },
    {
      "cell_type": "code",
      "source": [
        "# Download the updated file\n",
        "files.download('bank-scaled.csv')"
      ],
      "metadata": {
        "colab": {
          "base_uri": "https://localhost:8080/",
          "height": 17
        },
        "id": "qDcCMK1t26Za",
        "outputId": "656d062c-93f0-479d-f39a-8da6e23ee9dd"
      },
      "execution_count": null,
      "outputs": [
        {
          "output_type": "display_data",
          "data": {
            "text/plain": [
              "<IPython.core.display.Javascript object>"
            ],
            "application/javascript": [
              "\n",
              "    async function download(id, filename, size) {\n",
              "      if (!google.colab.kernel.accessAllowed) {\n",
              "        return;\n",
              "      }\n",
              "      const div = document.createElement('div');\n",
              "      const label = document.createElement('label');\n",
              "      label.textContent = `Downloading \"${filename}\": `;\n",
              "      div.appendChild(label);\n",
              "      const progress = document.createElement('progress');\n",
              "      progress.max = size;\n",
              "      div.appendChild(progress);\n",
              "      document.body.appendChild(div);\n",
              "\n",
              "      const buffers = [];\n",
              "      let downloaded = 0;\n",
              "\n",
              "      const channel = await google.colab.kernel.comms.open(id);\n",
              "      // Send a message to notify the kernel that we're ready.\n",
              "      channel.send({})\n",
              "\n",
              "      for await (const message of channel.messages) {\n",
              "        // Send a message to notify the kernel that we're ready.\n",
              "        channel.send({})\n",
              "        if (message.buffers) {\n",
              "          for (const buffer of message.buffers) {\n",
              "            buffers.push(buffer);\n",
              "            downloaded += buffer.byteLength;\n",
              "            progress.value = downloaded;\n",
              "          }\n",
              "        }\n",
              "      }\n",
              "      const blob = new Blob(buffers, {type: 'application/binary'});\n",
              "      const a = document.createElement('a');\n",
              "      a.href = window.URL.createObjectURL(blob);\n",
              "      a.download = filename;\n",
              "      div.appendChild(a);\n",
              "      a.click();\n",
              "      div.remove();\n",
              "    }\n",
              "  "
            ]
          },
          "metadata": {}
        },
        {
          "output_type": "display_data",
          "data": {
            "text/plain": [
              "<IPython.core.display.Javascript object>"
            ],
            "application/javascript": [
              "download(\"download_5c7419a0-1ed0-44cd-aa7e-1f238f3cca64\", \"bank-scaled.csv\", 17039899)"
            ]
          },
          "metadata": {}
        }
      ]
    }
  ]
}