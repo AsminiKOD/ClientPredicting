{
  "cells": [
    {
      "cell_type": "markdown",
      "metadata": {
        "id": "view-in-github",
        "colab_type": "text"
      },
      "source": [
        "<a href=\"https://colab.research.google.com/github/AsminiKOD/ClientPredicting/blob/RandomForest/Random_Forest.ipynb\" target=\"_parent\"><img src=\"https://colab.research.google.com/assets/colab-badge.svg\" alt=\"Open In Colab\"/></a>"
      ]
    },
    {
      "cell_type": "markdown",
      "metadata": {
        "id": "buUibxtqlKJ3"
      },
      "source": [
        "#Random Forest Model"
      ]
    },
    {
      "cell_type": "code",
      "execution_count": 3,
      "metadata": {
        "colab": {
          "base_uri": "https://localhost:8080/"
        },
        "id": "zdaJQqWNn5Sj",
        "outputId": "df3fa21a-f6d7-44e1-b505-d1df893473b7"
      },
      "outputs": [
        {
          "output_type": "stream",
          "name": "stderr",
          "text": [
            "/usr/local/lib/python3.10/dist-packages/sklearn/base.py:474: FutureWarning: `BaseEstimator._validate_data` is deprecated in 1.6 and will be removed in 1.7. Use `sklearn.utils.validation.validate_data` instead. This function becomes public and is part of the scikit-learn developer API.\n",
            "  warnings.warn(\n",
            "/usr/local/lib/python3.10/dist-packages/sklearn/utils/_tags.py:354: FutureWarning: The SMOTE or classes from which it inherits use `_get_tags` and `_more_tags`. Please define the `__sklearn_tags__` method, or inherit from `sklearn.base.BaseEstimator` and/or other appropriate mixins such as `sklearn.base.TransformerMixin`, `sklearn.base.ClassifierMixin`, `sklearn.base.RegressorMixin`, and `sklearn.base.OutlierMixin`. From scikit-learn 1.7, not defining `__sklearn_tags__` will raise an error.\n",
            "  warnings.warn(\n"
          ]
        },
        {
          "output_type": "stream",
          "name": "stdout",
          "text": [
            "Training Set Classification Report:\n",
            "              precision    recall  f1-score   support\n",
            "\n",
            "           0       0.94      0.95      0.94     27438\n",
            "           1       0.95      0.93      0.94     27438\n",
            "\n",
            "    accuracy                           0.94     54876\n",
            "   macro avg       0.94      0.94      0.94     54876\n",
            "weighted avg       0.94      0.94      0.94     54876\n",
            "\n",
            "Testing Set Classification Report:\n",
            "              precision    recall  f1-score   support\n",
            "\n",
            "           0       0.93      0.92      0.92      6859\n",
            "           1       0.44      0.49      0.47       917\n",
            "\n",
            "    accuracy                           0.87      7776\n",
            "   macro avg       0.69      0.70      0.70      7776\n",
            "weighted avg       0.87      0.87      0.87      7776\n",
            "\n",
            "Testing Set ROC AUC Score: 0.78\n"
          ]
        }
      ],
      "source": [
        "from sklearn.ensemble import RandomForestClassifier\n",
        "from sklearn.model_selection import train_test_split, GridSearchCV\n",
        "from sklearn.metrics import classification_report, roc_auc_score, roc_curve\n",
        "from imblearn.over_sampling import SMOTE\n",
        "import pandas as pd\n",
        "\n",
        "# Load the dataset\n",
        "file_path = 're-duplicates-handled.csv'\n",
        "data = pd.read_csv(file_path)\n",
        "\n",
        "# Drop rows with NaN in the target variable\n",
        "data.dropna(subset=['y'], inplace=True)\n",
        "\n",
        "# Separate features and target variable\n",
        "X = data.drop(columns=['y'])\n",
        "y = data['y']\n",
        "\n",
        "# Split the dataset into training and testing sets\n",
        "X_train, X_test, y_train, y_test = train_test_split(X, y, test_size=0.2, random_state=42, stratify=y)\n",
        "\n",
        "# Apply SMOTE to balance the training set\n",
        "smote = SMOTE(random_state=42)\n",
        "X_train_resampled, y_train_resampled = smote.fit_resample(X_train, y_train)\n",
        "\n",
        "# Define the Random Forest model with hyperparameter tuning\n",
        "param_grid = {\n",
        "    'n_estimators': [50, 100],\n",
        "    'max_depth': [10, 15, 20],\n",
        "    'min_samples_split': [5, 10],\n",
        "    'min_samples_leaf': [2, 4],\n",
        "    'max_features': ['sqrt', 'log2']\n",
        "}\n",
        "\n",
        "grid_search = GridSearchCV(RandomForestClassifier(random_state=42), param_grid, cv=3, scoring='f1', n_jobs=-1)\n",
        "grid_search.fit(X_train_resampled, y_train_resampled)\n",
        "\n",
        "# Get the best model\n",
        "best_rf_model = grid_search.best_estimator_\n",
        "\n",
        "# Evaluate the model on training and testing data\n",
        "y_train_pred = best_rf_model.predict(X_train_resampled)\n",
        "y_test_pred = best_rf_model.predict(X_test)\n",
        "\n",
        "y_train_proba = best_rf_model.predict_proba(X_train_resampled)[:, 1]\n",
        "y_test_proba = best_rf_model.predict_proba(X_test)[:, 1]\n",
        "\n",
        "test_auc = roc_auc_score(y_test, y_test_proba)\n",
        "\n",
        "train_report = classification_report(y_train_resampled, y_train_pred)\n",
        "test_report = classification_report(y_test, y_test_pred)\n",
        "\n",
        "print(\"Training Set Classification Report:\")\n",
        "print(train_report)\n",
        "\n",
        "print(\"Testing Set Classification Report:\")\n",
        "print(test_report)\n",
        "print(f\"Testing Set ROC AUC Score: {test_auc:.2f}\")\n"
      ]
    },
    {
      "cell_type": "markdown",
      "source": [
        "###Visualization"
      ],
      "metadata": {
        "id": "bTm0uN_yq1rH"
      }
    },
    {
      "cell_type": "code",
      "source": [
        "from sklearn.metrics import confusion_matrix\n",
        "import seaborn as sns\n",
        "import matplotlib.pyplot as plt\n",
        "\n",
        "# Confusion Matrix for Test Set\n",
        "conf_matrix = confusion_matrix(y_test, y_test_pred)\n",
        "\n",
        "# Plot the confusion matrix\n",
        "plt.figure(figsize=(8, 6))\n",
        "sns.heatmap(conf_matrix, annot=True, fmt='d', cmap='Blues', xticklabels=best_rf_model.classes_, yticklabels=best_rf_model.classes_)\n",
        "plt.title('Confusion Matrix - Test Set')\n",
        "plt.xlabel('Predicted')\n",
        "plt.ylabel('Actual')\n",
        "plt.show()\n"
      ],
      "metadata": {
        "colab": {
          "base_uri": "https://localhost:8080/",
          "height": 564
        },
        "id": "_slmRIaaqzQZ",
        "outputId": "eee5bfd2-bbea-4478-f313-0cfa2e7853b2"
      },
      "execution_count": 4,
      "outputs": [
        {
          "output_type": "display_data",
          "data": {
            "text/plain": [
              "<Figure size 800x600 with 2 Axes>"
            ],
            "image/png": "[encoded data removed]"
          },
          "metadata": {}
        }
      ]
    }
  ],
  "metadata": {
    "colab": {
      "provenance": [],
      "authorship_tag": "ABX9TyNOXO7+319uVO5NNoVzs8yF",
      "include_colab_link": true
    },
    "kernelspec": {
      "display_name": "Python 3",
      "name": "python3"
    },
    "language_info": {
      "name": "python"
    }
  },
  "nbformat": 4,
  "nbformat_minor": 0
}