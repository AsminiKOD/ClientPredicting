{
  "nbformat": 4,
  "nbformat_minor": 0,
  "metadata": {
    "colab": {
      "provenance": [],
      "toc_visible": true,
      "authorship_tag": "ABX9TyNSyK53DuzxM4F7+2TKRKAz",
      "include_colab_link": true
    },
    "kernelspec": {
      "name": "python3",
      "display_name": "Python 3"
    },
    "language_info": {
      "name": "python"
    }
  },
  "cells": [
    {
      "cell_type": "markdown",
      "metadata": {
        "id": "view-in-github",
        "colab_type": "text"
      },
      "source": [
        "<a href=\"https://colab.research.google.com/github/AsminiKOD/ClientPredicting/blob/Preprocessing/DataPreprocessing.ipynb\" target=\"_parent\"><img src=\"https://colab.research.google.com/assets/colab-badge.svg\" alt=\"Open In Colab\"/></a>"
      ]
    },
    {
      "cell_type": "markdown",
      "source": [
        "###Format CSV"
      ],
      "metadata": {
        "id": "mhaJuOJuKPM5"
      }
    },
    {
      "cell_type": "code",
      "source": [
        "import pandas as pd\n",
        "from google.colab import files"
      ],
      "metadata": {
        "id": "fslSQkfcKczx"
      },
      "execution_count": 5,
      "outputs": []
    },
    {
      "cell_type": "code",
      "execution_count": 6,
      "metadata": {
        "colab": {
          "base_uri": "https://localhost:8080/"
        },
        "id": "0s9dQOehF6Gg",
        "outputId": "3211d5dd-babf-4d7c-aa53-fae138ff0588"
      },
      "outputs": [
        {
          "output_type": "stream",
          "name": "stdout",
          "text": [
            "   age        job  marital    education  default housing loan    contact  \\\n",
            "0   56  housemaid  married     basic.4y       no      no   no  telephone   \n",
            "1   57   services  married  high.school  unknown      no   no  telephone   \n",
            "2   37   services  married  high.school       no     yes   no  telephone   \n",
            "3   40     admin.  married     basic.6y       no      no   no  telephone   \n",
            "4   56   services  married  high.school       no      no  yes  telephone   \n",
            "\n",
            "  month day_of_week  ...  campaign  pdays  previous     poutcome emp.var.rate  \\\n",
            "0   may         mon  ...         1    999         0  nonexistent          1.1   \n",
            "1   may         mon  ...         1    999         0  nonexistent          1.1   \n",
            "2   may         mon  ...         1    999         0  nonexistent          1.1   \n",
            "3   may         mon  ...         1    999         0  nonexistent          1.1   \n",
            "4   may         mon  ...         1    999         0  nonexistent          1.1   \n",
            "\n",
            "   cons.price.idx  cons.conf.idx  euribor3m  nr.employed   y  \n",
            "0          93.994          -36.4      4.857       5191.0  no  \n",
            "1          93.994          -36.4      4.857       5191.0  no  \n",
            "2          93.994          -36.4      4.857       5191.0  no  \n",
            "3          93.994          -36.4      4.857       5191.0  no  \n",
            "4          93.994          -36.4      4.857       5191.0  no  \n",
            "\n",
            "[5 rows x 21 columns]\n"
          ]
        }
      ],
      "source": [
        "# Read the original CSV file with \";\" as the delimiter\n",
        "data = pd.read_csv('bank-additional-full.csv', sep=';', engine='python')\n",
        "\n",
        "# Overwrite the original CSV file with properly separated columns\n",
        "data.to_csv('bank.csv', index=False)\n",
        "\n",
        "# Display the first few rows to confirm the changes\n",
        "print(data.head())"
      ]
    },
    {
      "cell_type": "code",
      "source": [
        "# Download the updated file\n",
        "files.download('bank.csv')"
      ],
      "metadata": {
        "colab": {
          "base_uri": "https://localhost:8080/",
          "height": 17
        },
        "id": "WPzWOKSVPSee",
        "outputId": "5b865504-b30e-44d8-a994-1648873138b9"
      },
      "execution_count": 3,
      "outputs": [
        {
          "output_type": "display_data",
          "data": {
            "text/plain": [
              "<IPython.core.display.Javascript object>"
            ],
            "application/javascript": [
              "\n",
              "    async function download(id, filename, size) {\n",
              "      if (!google.colab.kernel.accessAllowed) {\n",
              "        return;\n",
              "      }\n",
              "      const div = document.createElement('div');\n",
              "      const label = document.createElement('label');\n",
              "      label.textContent = `Downloading \"${filename}\": `;\n",
              "      div.appendChild(label);\n",
              "      const progress = document.createElement('progress');\n",
              "      progress.max = size;\n",
              "      div.appendChild(progress);\n",
              "      document.body.appendChild(div);\n",
              "\n",
              "      const buffers = [];\n",
              "      let downloaded = 0;\n",
              "\n",
              "      const channel = await google.colab.kernel.comms.open(id);\n",
              "      // Send a message to notify the kernel that we're ready.\n",
              "      channel.send({})\n",
              "\n",
              "      for await (const message of channel.messages) {\n",
              "        // Send a message to notify the kernel that we're ready.\n",
              "        channel.send({})\n",
              "        if (message.buffers) {\n",
              "          for (const buffer of message.buffers) {\n",
              "            buffers.push(buffer);\n",
              "            downloaded += buffer.byteLength;\n",
              "            progress.value = downloaded;\n",
              "          }\n",
              "        }\n",
              "      }\n",
              "      const blob = new Blob(buffers, {type: 'application/binary'});\n",
              "      const a = document.createElement('a');\n",
              "      a.href = window.URL.createObjectURL(blob);\n",
              "      a.download = filename;\n",
              "      div.appendChild(a);\n",
              "      a.click();\n",
              "      div.remove();\n",
              "    }\n",
              "  "
            ]
          },
          "metadata": {}
        },
        {
          "output_type": "display_data",
          "data": {
            "text/plain": [
              "<IPython.core.display.Javascript object>"
            ],
            "application/javascript": [
              "download(\"download_f441d4a2-4944-4cfa-8c4e-4f62c0c674fd\", \"bank.csv\", 4912041)"
            ]
          },
          "metadata": {}
        }
      ]
    },
    {
      "cell_type": "markdown",
      "source": [
        "###Handle Missing Value"
      ],
      "metadata": {
        "id": "dSdvpuCygfpQ"
      }
    },
    {
      "cell_type": "code",
      "source": [
        "# Check for missing values\n",
        "print(data.isnull().sum())\n",
        "\n",
        "# Fill missing values for numeric columns with the median\n",
        "numeric_columns = data.select_dtypes(include=['number']).columns\n",
        "data[numeric_columns] = data[numeric_columns].fillna(data[numeric_columns].median())\n",
        "\n",
        "# Fill missing values for non-numeric columns with the mode (most frequent value)\n",
        "non_numeric_columns = data.select_dtypes(exclude=['number']).columns\n",
        "for col in non_numeric_columns:\n",
        "    data[col].fillna(data[col].mode()[0], inplace=True)\n",
        "\n",
        "# Save the dataset with handled missing values to another CSV file\n",
        "missing_values_handled_file_path = 'missing-values-handled.csv'\n",
        "data.to_csv(missing_values_handled_file_path, index=False)\n",
        "\n",
        "# Display the first few rows of the dataset\n",
        "print(data.head())"
      ],
      "metadata": {
        "colab": {
          "base_uri": "https://localhost:8080/"
        },
        "id": "8yJ7mq1-goRF",
        "outputId": "b2c3e118-8a00-47bb-b78e-2c29b00b117e"
      },
      "execution_count": 7,
      "outputs": [
        {
          "output_type": "stream",
          "name": "stdout",
          "text": [
            "age               0\n",
            "job               0\n",
            "marital           0\n",
            "education         0\n",
            "default           0\n",
            "housing           0\n",
            "loan              0\n",
            "contact           0\n",
            "month             0\n",
            "day_of_week       0\n",
            "duration          0\n",
            "campaign          0\n",
            "pdays             0\n",
            "previous          0\n",
            "poutcome          0\n",
            "emp.var.rate      0\n",
            "cons.price.idx    0\n",
            "cons.conf.idx     0\n",
            "euribor3m         0\n",
            "nr.employed       0\n",
            "y                 0\n",
            "dtype: int64\n"
          ]
        },
        {
          "output_type": "stream",
          "name": "stderr",
          "text": [
            "<ipython-input-7-9a983167e5d8>:11: FutureWarning: A value is trying to be set on a copy of a DataFrame or Series through chained assignment using an inplace method.\n",
            "The behavior will change in pandas 3.0. This inplace method will never work because the intermediate object on which we are setting values always behaves as a copy.\n",
            "\n",
            "For example, when doing 'df[col].method(value, inplace=True)', try using 'df.method({col: value}, inplace=True)' or df[col] = df[col].method(value) instead, to perform the operation inplace on the original object.\n",
            "\n",
            "\n",
            "  data[col].fillna(data[col].mode()[0], inplace=True)\n"
          ]
        },
        {
          "output_type": "stream",
          "name": "stdout",
          "text": [
            "   age        job  marital    education  default housing loan    contact  \\\n",
            "0   56  housemaid  married     basic.4y       no      no   no  telephone   \n",
            "1   57   services  married  high.school  unknown      no   no  telephone   \n",
            "2   37   services  married  high.school       no     yes   no  telephone   \n",
            "3   40     admin.  married     basic.6y       no      no   no  telephone   \n",
            "4   56   services  married  high.school       no      no  yes  telephone   \n",
            "\n",
            "  month day_of_week  ...  campaign  pdays  previous     poutcome emp.var.rate  \\\n",
            "0   may         mon  ...         1    999         0  nonexistent          1.1   \n",
            "1   may         mon  ...         1    999         0  nonexistent          1.1   \n",
            "2   may         mon  ...         1    999         0  nonexistent          1.1   \n",
            "3   may         mon  ...         1    999         0  nonexistent          1.1   \n",
            "4   may         mon  ...         1    999         0  nonexistent          1.1   \n",
            "\n",
            "   cons.price.idx  cons.conf.idx  euribor3m  nr.employed   y  \n",
            "0          93.994          -36.4      4.857       5191.0  no  \n",
            "1          93.994          -36.4      4.857       5191.0  no  \n",
            "2          93.994          -36.4      4.857       5191.0  no  \n",
            "3          93.994          -36.4      4.857       5191.0  no  \n",
            "4          93.994          -36.4      4.857       5191.0  no  \n",
            "\n",
            "[5 rows x 21 columns]\n"
          ]
        }
      ]
    },
    {
      "cell_type": "code",
      "source": [
        "# Download the updated file\n",
        "files.download('missing-values-handled.csv')"
      ],
      "metadata": {
        "colab": {
          "base_uri": "https://localhost:8080/",
          "height": 17
        },
        "id": "atv6M4DKie_j",
        "outputId": "0487c832-5482-4ba4-ee1a-493e8bd894bd"
      },
      "execution_count": 5,
      "outputs": [
        {
          "output_type": "display_data",
          "data": {
            "text/plain": [
              "<IPython.core.display.Javascript object>"
            ],
            "application/javascript": [
              "\n",
              "    async function download(id, filename, size) {\n",
              "      if (!google.colab.kernel.accessAllowed) {\n",
              "        return;\n",
              "      }\n",
              "      const div = document.createElement('div');\n",
              "      const label = document.createElement('label');\n",
              "      label.textContent = `Downloading \"${filename}\": `;\n",
              "      div.appendChild(label);\n",
              "      const progress = document.createElement('progress');\n",
              "      progress.max = size;\n",
              "      div.appendChild(progress);\n",
              "      document.body.appendChild(div);\n",
              "\n",
              "      const buffers = [];\n",
              "      let downloaded = 0;\n",
              "\n",
              "      const channel = await google.colab.kernel.comms.open(id);\n",
              "      // Send a message to notify the kernel that we're ready.\n",
              "      channel.send({})\n",
              "\n",
              "      for await (const message of channel.messages) {\n",
              "        // Send a message to notify the kernel that we're ready.\n",
              "        channel.send({})\n",
              "        if (message.buffers) {\n",
              "          for (const buffer of message.buffers) {\n",
              "            buffers.push(buffer);\n",
              "            downloaded += buffer.byteLength;\n",
              "            progress.value = downloaded;\n",
              "          }\n",
              "        }\n",
              "      }\n",
              "      const blob = new Blob(buffers, {type: 'application/binary'});\n",
              "      const a = document.createElement('a');\n",
              "      a.href = window.URL.createObjectURL(blob);\n",
              "      a.download = filename;\n",
              "      div.appendChild(a);\n",
              "      a.click();\n",
              "      div.remove();\n",
              "    }\n",
              "  "
            ]
          },
          "metadata": {}
        },
        {
          "output_type": "display_data",
          "data": {
            "text/plain": [
              "<IPython.core.display.Javascript object>"
            ],
            "application/javascript": [
              "download(\"download_085fdc3d-da4e-4df2-9a8d-36eab5b22a0c\", \"missing-values-handled.csv\", 4912041)"
            ]
          },
          "metadata": {}
        }
      ]
    },
    {
      "cell_type": "markdown",
      "source": [
        "###Handle Duplicate"
      ],
      "metadata": {
        "id": "fa3UUUu_bG_4"
      }
    },
    {
      "cell_type": "code",
      "source": [
        "# Check for duplicate rows\n",
        "duplicate_count = data.duplicated().sum()\n",
        "print(f\"Number of duplicate rows: {duplicate_count}\")\n",
        "\n",
        "# Drop duplicate rows\n",
        "data = data.drop_duplicates()\n",
        "\n",
        "# Save the dataset after removing duplicates to another CSV file\n",
        "duplicates_handled_file_path = 'duplicates-handled.csv'\n",
        "data.to_csv(duplicates_handled_file_path, index=False)\n",
        "\n",
        "# Display the first few rows of the dataset after handling duplicates\n",
        "print(data.head())\n"
      ],
      "metadata": {
        "colab": {
          "base_uri": "https://localhost:8080/"
        },
        "id": "Q48mESztbMN5",
        "outputId": "8d23f720-4947-406d-ca0e-2e535eb18013"
      },
      "execution_count": 8,
      "outputs": [
        {
          "output_type": "stream",
          "name": "stdout",
          "text": [
            "Number of duplicate rows: 12\n",
            "   age        job  marital    education  default housing loan    contact  \\\n",
            "0   56  housemaid  married     basic.4y       no      no   no  telephone   \n",
            "1   57   services  married  high.school  unknown      no   no  telephone   \n",
            "2   37   services  married  high.school       no     yes   no  telephone   \n",
            "3   40     admin.  married     basic.6y       no      no   no  telephone   \n",
            "4   56   services  married  high.school       no      no  yes  telephone   \n",
            "\n",
            "  month day_of_week  ...  campaign  pdays  previous     poutcome emp.var.rate  \\\n",
            "0   may         mon  ...         1    999         0  nonexistent          1.1   \n",
            "1   may         mon  ...         1    999         0  nonexistent          1.1   \n",
            "2   may         mon  ...         1    999         0  nonexistent          1.1   \n",
            "3   may         mon  ...         1    999         0  nonexistent          1.1   \n",
            "4   may         mon  ...         1    999         0  nonexistent          1.1   \n",
            "\n",
            "   cons.price.idx  cons.conf.idx  euribor3m  nr.employed   y  \n",
            "0          93.994          -36.4      4.857       5191.0  no  \n",
            "1          93.994          -36.4      4.857       5191.0  no  \n",
            "2          93.994          -36.4      4.857       5191.0  no  \n",
            "3          93.994          -36.4      4.857       5191.0  no  \n",
            "4          93.994          -36.4      4.857       5191.0  no  \n",
            "\n",
            "[5 rows x 21 columns]\n"
          ]
        }
      ]
    },
    {
      "cell_type": "code",
      "source": [
        "# Download the updated file\n",
        "files.download('duplicates-handled.csv')"
      ],
      "metadata": {
        "id": "luIRwMvecBC2",
        "colab": {
          "base_uri": "https://localhost:8080/",
          "height": 17
        },
        "outputId": "0bc3b13f-87b1-44ed-d46c-9c644690b045"
      },
      "execution_count": 7,
      "outputs": [
        {
          "output_type": "display_data",
          "data": {
            "text/plain": [
              "<IPython.core.display.Javascript object>"
            ],
            "application/javascript": [
              "\n",
              "    async function download(id, filename, size) {\n",
              "      if (!google.colab.kernel.accessAllowed) {\n",
              "        return;\n",
              "      }\n",
              "      const div = document.createElement('div');\n",
              "      const label = document.createElement('label');\n",
              "      label.textContent = `Downloading \"${filename}\": `;\n",
              "      div.appendChild(label);\n",
              "      const progress = document.createElement('progress');\n",
              "      progress.max = size;\n",
              "      div.appendChild(progress);\n",
              "      document.body.appendChild(div);\n",
              "\n",
              "      const buffers = [];\n",
              "      let downloaded = 0;\n",
              "\n",
              "      const channel = await google.colab.kernel.comms.open(id);\n",
              "      // Send a message to notify the kernel that we're ready.\n",
              "      channel.send({})\n",
              "\n",
              "      for await (const message of channel.messages) {\n",
              "        // Send a message to notify the kernel that we're ready.\n",
              "        channel.send({})\n",
              "        if (message.buffers) {\n",
              "          for (const buffer of message.buffers) {\n",
              "            buffers.push(buffer);\n",
              "            downloaded += buffer.byteLength;\n",
              "            progress.value = downloaded;\n",
              "          }\n",
              "        }\n",
              "      }\n",
              "      const blob = new Blob(buffers, {type: 'application/binary'});\n",
              "      const a = document.createElement('a');\n",
              "      a.href = window.URL.createObjectURL(blob);\n",
              "      a.download = filename;\n",
              "      div.appendChild(a);\n",
              "      a.click();\n",
              "      div.remove();\n",
              "    }\n",
              "  "
            ]
          },
          "metadata": {}
        },
        {
          "output_type": "display_data",
          "data": {
            "text/plain": [
              "<IPython.core.display.Javascript object>"
            ],
            "application/javascript": [
              "download(\"download_12bc3755-fb48-400f-b5fc-a752b3363806\", \"duplicates-handled.csv\", 4910606)"
            ]
          },
          "metadata": {}
        }
      ]
    },
    {
      "cell_type": "markdown",
      "source": [
        "###Feature Importance"
      ],
      "metadata": {
        "id": "zblrSkcU7Vyc"
      }
    },
    {
      "cell_type": "code",
      "source": [
        "from sklearn.ensemble import RandomForestClassifier\n",
        "import pandas as pd\n",
        "import matplotlib.pyplot as plt\n",
        "from sklearn.preprocessing import LabelEncoder"
      ],
      "metadata": {
        "id": "xLLVTXNU8xM9"
      },
      "execution_count": 9,
      "outputs": []
    },
    {
      "cell_type": "code",
      "source": [
        "# Load the dataset\n",
        "data = pd.read_csv('duplicates-handled.csv')\n",
        "\n",
        "# Initialize LabelEncoder\n",
        "label_encoder = LabelEncoder()\n",
        "\n",
        "# Encode the target variable as integers\n",
        "y = label_encoder.fit_transform(data['y'])\n",
        "\n",
        "# Encode all categorical features\n",
        "categorical_columns = data.select_dtypes(include=['object']).columns\n",
        "for col in categorical_columns:\n",
        "    if col != 'y':  # Skip the target variable\n",
        "        data[col] = label_encoder.fit_transform(data[col])\n",
        "\n",
        "# Split features and target variable\n",
        "X = data.drop('y', axis=1)\n",
        "\n",
        "# Train a Random Forest model\n",
        "rf = RandomForestClassifier(random_state=42)\n",
        "rf.fit(X, y)\n",
        "\n",
        "# Extract feature importances\n",
        "feature_importances = pd.Series(rf.feature_importances_, index=X.columns)\n",
        "\n",
        "# Sort features by importance\n",
        "sorted_features = feature_importances.sort_values(ascending=False)\n",
        "\n",
        "# Visualize feature importances\n",
        "plt.figure(figsize=(10, 4))\n",
        "sorted_features.plot(kind='bar', color='skyblue')\n",
        "plt.title('Feature Importances')\n",
        "plt.xlabel('Features')\n",
        "plt.ylabel('Importance Score')\n",
        "plt.show()\n"
      ],
      "metadata": {
        "id": "RxP8VHrB7pfw",
        "colab": {
          "base_uri": "https://localhost:8080/",
          "height": 492
        },
        "outputId": "1a587d94-3027-4b1e-8122-55fd37ab3aae"
      },
      "execution_count": 10,
      "outputs": [
        {
          "output_type": "display_data",
          "data": {
            "text/plain": [
              "<Figure size 1000x400 with 1 Axes>"
            ],
            "image/png": "[encoded data removed]"
          },
          "metadata": {}
        }
      ]
    },
    {
      "cell_type": "markdown",
      "source": [
        "###Feature Selection"
      ],
      "metadata": {
        "id": "hASALdjNZ4KK"
      }
    },
    {
      "cell_type": "code",
      "source": [
        "# Drop the specified columns\n",
        "data = pd.read_csv('duplicates-handled.csv')\n",
        "data_cleaned = data.drop(['duration', 'contact', 'default'], axis=1)\n",
        "\n",
        "# Save the cleaned dataset to a new CSV file\n",
        "data_cleaned.to_csv('Feature_selection.csv', index=False)\n",
        "\n",
        "# Verify the new dataset by displaying the first few rows\n",
        "print(data_cleaned.head())"
      ],
      "metadata": {
        "colab": {
          "base_uri": "https://localhost:8080/"
        },
        "id": "WNyVS4xnaHRG",
        "outputId": "3be3b531-a496-4368-cc8b-7577278ecba4"
      },
      "execution_count": 11,
      "outputs": [
        {
          "output_type": "stream",
          "name": "stdout",
          "text": [
            "   age        job  marital    education housing loan month day_of_week  \\\n",
            "0   56  housemaid  married     basic.4y      no   no   may         mon   \n",
            "1   57   services  married  high.school      no   no   may         mon   \n",
            "2   37   services  married  high.school     yes   no   may         mon   \n",
            "3   40     admin.  married     basic.6y      no   no   may         mon   \n",
            "4   56   services  married  high.school      no  yes   may         mon   \n",
            "\n",
            "   campaign  pdays  previous     poutcome  emp.var.rate  cons.price.idx  \\\n",
            "0         1    999         0  nonexistent           1.1          93.994   \n",
            "1         1    999         0  nonexistent           1.1          93.994   \n",
            "2         1    999         0  nonexistent           1.1          93.994   \n",
            "3         1    999         0  nonexistent           1.1          93.994   \n",
            "4         1    999         0  nonexistent           1.1          93.994   \n",
            "\n",
            "   cons.conf.idx  euribor3m  nr.employed   y  \n",
            "0          -36.4      4.857       5191.0  no  \n",
            "1          -36.4      4.857       5191.0  no  \n",
            "2          -36.4      4.857       5191.0  no  \n",
            "3          -36.4      4.857       5191.0  no  \n",
            "4          -36.4      4.857       5191.0  no  \n"
          ]
        }
      ]
    },
    {
      "cell_type": "code",
      "source": [
        "# Download the updated file\n",
        "files.download('Feature_selection.csv')"
      ],
      "metadata": {
        "id": "7aBx6PfgwC62",
        "colab": {
          "base_uri": "https://localhost:8080/",
          "height": 17
        },
        "outputId": "34219be9-0741-443b-c5eb-58f9a97184de"
      },
      "execution_count": 11,
      "outputs": [
        {
          "output_type": "display_data",
          "data": {
            "text/plain": [
              "<IPython.core.display.Javascript object>"
            ],
            "application/javascript": [
              "\n",
              "    async function download(id, filename, size) {\n",
              "      if (!google.colab.kernel.accessAllowed) {\n",
              "        return;\n",
              "      }\n",
              "      const div = document.createElement('div');\n",
              "      const label = document.createElement('label');\n",
              "      label.textContent = `Downloading \"${filename}\": `;\n",
              "      div.appendChild(label);\n",
              "      const progress = document.createElement('progress');\n",
              "      progress.max = size;\n",
              "      div.appendChild(progress);\n",
              "      document.body.appendChild(div);\n",
              "\n",
              "      const buffers = [];\n",
              "      let downloaded = 0;\n",
              "\n",
              "      const channel = await google.colab.kernel.comms.open(id);\n",
              "      // Send a message to notify the kernel that we're ready.\n",
              "      channel.send({})\n",
              "\n",
              "      for await (const message of channel.messages) {\n",
              "        // Send a message to notify the kernel that we're ready.\n",
              "        channel.send({})\n",
              "        if (message.buffers) {\n",
              "          for (const buffer of message.buffers) {\n",
              "            buffers.push(buffer);\n",
              "            downloaded += buffer.byteLength;\n",
              "            progress.value = downloaded;\n",
              "          }\n",
              "        }\n",
              "      }\n",
              "      const blob = new Blob(buffers, {type: 'application/binary'});\n",
              "      const a = document.createElement('a');\n",
              "      a.href = window.URL.createObjectURL(blob);\n",
              "      a.download = filename;\n",
              "      div.appendChild(a);\n",
              "      a.click();\n",
              "      div.remove();\n",
              "    }\n",
              "  "
            ]
          },
          "metadata": {}
        },
        {
          "output_type": "display_data",
          "data": {
            "text/plain": [
              "<IPython.core.display.Javascript object>"
            ],
            "application/javascript": [
              "download(\"download_52f64e07-c161-40ad-894d-8f93f340c3f2\", \"Feature_selection.csv\", 4202949)"
            ]
          },
          "metadata": {}
        }
      ]
    },
    {
      "cell_type": "code",
      "source": [
        "from sklearn.ensemble import RandomForestClassifier\n",
        "import pandas as pd\n",
        "import matplotlib.pyplot as plt\n",
        "from sklearn.preprocessing import LabelEncoder"
      ],
      "metadata": {
        "id": "OX-33swRw0UI"
      },
      "execution_count": 12,
      "outputs": []
    },
    {
      "cell_type": "code",
      "source": [
        "# Load the cleaned dataset\n",
        "data_cleaned = pd.read_csv('Feature_selection.csv')\n",
        "\n",
        "# Initialize LabelEncoder\n",
        "label_encoder = LabelEncoder()\n",
        "\n",
        "# Encode the target variable as integers\n",
        "y = label_encoder.fit_transform(data_cleaned['y'])\n",
        "\n",
        "# Encode all categorical features\n",
        "categorical_columns = data_cleaned.select_dtypes(include=['object']).columns\n",
        "for col in categorical_columns:\n",
        "    if col != 'y':  # Skip the target variable\n",
        "        data_cleaned[col] = label_encoder.fit_transform(data_cleaned[col])\n",
        "\n",
        "# Split features and target variable\n",
        "X_cleaned = data_cleaned.drop('y', axis=1)\n",
        "\n",
        "# Train a Random Forest model\n",
        "rf = RandomForestClassifier(random_state=42)\n",
        "rf.fit(X_cleaned, y)\n",
        "\n",
        "# Extract feature importances\n",
        "feature_importances = pd.Series(rf.feature_importances_, index=X_cleaned.columns)\n",
        "\n",
        "# Sort features by importance\n",
        "sorted_features = feature_importances.sort_values(ascending=False)\n",
        "\n",
        "# Display the most important features\n",
        "print(sorted_features)\n",
        "\n",
        "# Visualize feature importances\n",
        "plt.figure(figsize=(10, 4))\n",
        "sorted_features.plot(kind='bar', color='skyblue')\n",
        "plt.title('Updated Feature Importances')\n",
        "plt.xlabel('Features')\n",
        "plt.ylabel('Importance Score')\n",
        "plt.show()\n"
      ],
      "metadata": {
        "colab": {
          "base_uri": "https://localhost:8080/",
          "height": 801
        },
        "id": "vky5HjE2wXKu",
        "outputId": "e0cd7de8-728b-44e7-f1f9-af90fc583e26"
      },
      "execution_count": 13,
      "outputs": [
        {
          "output_type": "stream",
          "name": "stdout",
          "text": [
            "age               0.198561\n",
            "euribor3m         0.135008\n",
            "campaign          0.091891\n",
            "job               0.089242\n",
            "education         0.079229\n",
            "nr.employed       0.077060\n",
            "day_of_week       0.058839\n",
            "marital           0.042199\n",
            "pdays             0.039093\n",
            "housing           0.038870\n",
            "poutcome          0.028871\n",
            "loan              0.027427\n",
            "emp.var.rate      0.022736\n",
            "cons.conf.idx     0.020982\n",
            "cons.price.idx    0.018147\n",
            "previous          0.015971\n",
            "month             0.015875\n",
            "dtype: float64\n"
          ]
        },
        {
          "output_type": "display_data",
          "data": {
            "text/plain": [
              "<Figure size 1000x400 with 1 Axes>"
            ],
            "image/png": "[encoded data removed]"
          },
          "metadata": {}
        }
      ]
    },
    {
      "cell_type": "markdown",
      "source": [
        "###Outlier detection"
      ],
      "metadata": {
        "id": "wMX1-17uESHe"
      }
    },
    {
      "cell_type": "code",
      "source": [
        "import pandas as pd\n",
        "import matplotlib.pyplot as plt"
      ],
      "metadata": {
        "id": "KJmgtVdBEbWC"
      },
      "execution_count": 14,
      "outputs": []
    },
    {
      "cell_type": "code",
      "source": [
        "# Load the dataset\n",
        "data = pd.read_csv('Feature_selection.csv')\n",
        "\n",
        "# Identify numerical columns\n",
        "numerical_columns = data.select_dtypes(include=['int64', 'float64']).columns\n",
        "\n",
        "# Plot box plots for each numerical column\n",
        "plt.figure(figsize=(10, 6))\n",
        "for i, column in enumerate(numerical_columns, 1):\n",
        "    plt.subplot(len(numerical_columns) // 3 + 1, 3, i)  # Arrange plots in rows of 3\n",
        "    plt.boxplot(data[column], vert=False, patch_artist=True, boxprops=dict(facecolor='skyblue'))\n",
        "    plt.title(column)\n",
        "\n",
        "plt.tight_layout()\n",
        "plt.show()\n"
      ],
      "metadata": {
        "colab": {
          "base_uri": "https://localhost:8080/",
          "height": 417
        },
        "id": "XyF4wrClERLu",
        "outputId": "a0f06513-d6b5-49dc-f79d-b62ca97b8f03"
      },
      "execution_count": 15,
      "outputs": [
        {
          "output_type": "display_data",
          "data": {
            "text/plain": [
              "<Figure size 1000x600 with 9 Axes>"
            ],
            "image/png": "[encoded data removed]"
          },
          "metadata": {}
        }
      ]
    },
    {
      "cell_type": "markdown",
      "source": [
        "###Outlier Handling"
      ],
      "metadata": {
        "id": "R_1hWsK13wG2"
      }
    },
    {
      "cell_type": "code",
      "source": [
        "import pandas as pd\n"
      ],
      "metadata": {
        "id": "0HrsE-9EiPro"
      },
      "execution_count": 30,
      "outputs": []
    },
    {
      "cell_type": "code",
      "source": [
        "# Load the dataset\n",
        "data = pd.read_csv('Feature_selection.csv')\n",
        "\n",
        "# Capping outliers for 'age', 'campaign', and 'cons.conf.idx'\n",
        "columns_to_cap = ['age', 'campaign', 'cons.conf.idx']\n",
        "\n",
        "for column in columns_to_cap:\n",
        "    # Calculate the 1st quartile (Q1) and 3rd quartile (Q3)\n",
        "    Q1 = data[column].quantile(0.25)\n",
        "    Q3 = data[column].quantile(0.75)\n",
        "    IQR = Q3 - Q1  # Interquartile Range\n",
        "\n",
        "    # Define lower and upper limits for capping\n",
        "    lower_limit = Q1 - 1.5 * IQR\n",
        "    upper_limit = Q3 + 1.5 * IQR\n",
        "\n",
        "    # Apply capping\n",
        "    data[column] = data[column].clip(lower=lower_limit, upper=upper_limit)\n",
        "\n",
        "# Save the capped dataset to a new file\n",
        "data.to_csv('outlier-handle.csv', index=False)\n"
      ],
      "metadata": {
        "id": "3Az2hHNJ34KV"
      },
      "execution_count": 31,
      "outputs": []
    },
    {
      "cell_type": "code",
      "source": [
        "# Download the updated file\n",
        "files.download('outlier-handle.csv')"
      ],
      "metadata": {
        "id": "37AZu3GziHte"
      },
      "execution_count": null,
      "outputs": []
    },
    {
      "cell_type": "markdown",
      "source": [
        "###Updated Outliers"
      ],
      "metadata": {
        "id": "qp32aMYhihp7"
      }
    },
    {
      "cell_type": "code",
      "source": [
        "import pandas as pd\n",
        "import matplotlib.pyplot as plt\n"
      ],
      "metadata": {
        "id": "aMSz_j5xi4yl"
      },
      "execution_count": 35,
      "outputs": []
    },
    {
      "cell_type": "code",
      "source": [
        "# Load the dataset\n",
        "data = pd.read_csv('outlier-handle.csv')\n",
        "\n",
        "# Columns for which to visualize box plots\n",
        "columns_to_visualize = ['age', 'campaign', 'cons.conf.idx']\n",
        "\n",
        "# Create box plots\n",
        "plt.figure(figsize=(10, 4))\n",
        "for i, column in enumerate(columns_to_visualize, 1):\n",
        "    plt.subplot(1, len(columns_to_visualize), i)\n",
        "    plt.boxplot(data[column], vert=False, patch_artist=True, boxprops=dict(facecolor='skyblue'))\n",
        "    plt.title(column)\n",
        "    plt.xlabel('Values')\n",
        "\n",
        "plt.tight_layout()\n",
        "plt.show()\n"
      ],
      "metadata": {
        "colab": {
          "base_uri": "https://localhost:8080/",
          "height": 355
        },
        "id": "umRZBeEvirEA",
        "outputId": "cd4e1d5f-01af-4a50-e5f1-db223d911138"
      },
      "execution_count": 34,
      "outputs": [
        {
          "output_type": "display_data",
          "data": {
            "text/plain": [
              "<Figure size 1000x400 with 3 Axes>"
            ],
            "image/png": "[encoded data removed]"
          },
          "metadata": {}
        }
      ]
    },
    {
      "cell_type": "markdown",
      "source": [
        "###Data Encoding"
      ],
      "metadata": {
        "id": "or0XVSUKXqz1"
      }
    },
    {
      "cell_type": "code",
      "source": [
        "import pandas as pd\n",
        "from sklearn.preprocessing import LabelEncoder\n",
        "from google.colab import files"
      ],
      "metadata": {
        "id": "ljl90oHEdbvn"
      },
      "execution_count": 16,
      "outputs": []
    },
    {
      "cell_type": "code",
      "source": [
        "# Load the dataset\n",
        "data = pd.read_csv('Feature_selection.csv')\n",
        "\n",
        "# Identify categorical columns for one-hot encoding and label encoding\n",
        "one_hot_columns = ['marital', 'education', 'housing', 'loan','poutcome','job', 'month', 'day_of_week']  # Categorical with few unique values\n",
        "label_encoding_columns = ['y']\n",
        "\n",
        "# Apply one-hot encoding\n",
        "data = pd.get_dummies(data, columns=one_hot_columns, drop_first=True)\n",
        "\n",
        "# Apply label encoding\n",
        "label_encoders = {}\n",
        "for column in label_encoding_columns:\n",
        "    le = LabelEncoder()\n",
        "    data[column] = le.fit_transform(data[column])\n",
        "    label_encoders[column] = le\n",
        "\n",
        "# Convert True/False columns to 1/0\n",
        "boolean_columns = data.select_dtypes(include=['bool']).columns\n",
        "for column in boolean_columns:\n",
        "    data[column] = data[column].astype(int)\n",
        "\n",
        "# Save the encoded dataset to a new CSV file\n",
        "encoded_file_path = 'bank-encoded.csv'\n",
        "data.to_csv(encoded_file_path, index=False)\n",
        "\n",
        "# Display the first few rows of the encoded dataset\n",
        "print(data.head())\n"
      ],
      "metadata": {
        "colab": {
          "base_uri": "https://localhost:8080/"
        },
        "id": "-yjxIUhZcpfA",
        "outputId": "01055d63-6394-4c9e-942f-fbc9c6932eb9"
      },
      "execution_count": 17,
      "outputs": [
        {
          "output_type": "stream",
          "name": "stdout",
          "text": [
            "   age  campaign  pdays  previous  emp.var.rate  cons.price.idx  \\\n",
            "0   56         1    999         0           1.1          93.994   \n",
            "1   57         1    999         0           1.1          93.994   \n",
            "2   37         1    999         0           1.1          93.994   \n",
            "3   40         1    999         0           1.1          93.994   \n",
            "4   56         1    999         0           1.1          93.994   \n",
            "\n",
            "   cons.conf.idx  euribor3m  nr.employed  y  ...  month_jun  month_mar  \\\n",
            "0          -36.4      4.857       5191.0  0  ...          0          0   \n",
            "1          -36.4      4.857       5191.0  0  ...          0          0   \n",
            "2          -36.4      4.857       5191.0  0  ...          0          0   \n",
            "3          -36.4      4.857       5191.0  0  ...          0          0   \n",
            "4          -36.4      4.857       5191.0  0  ...          0          0   \n",
            "\n",
            "   month_may  month_nov  month_oct  month_sep  day_of_week_mon  \\\n",
            "0          1          0          0          0                1   \n",
            "1          1          0          0          0                1   \n",
            "2          1          0          0          0                1   \n",
            "3          1          0          0          0                1   \n",
            "4          1          0          0          0                1   \n",
            "\n",
            "   day_of_week_thu  day_of_week_tue  day_of_week_wed  \n",
            "0                0                0                0  \n",
            "1                0                0                0  \n",
            "2                0                0                0  \n",
            "3                0                0                0  \n",
            "4                0                0                0  \n",
            "\n",
            "[5 rows x 50 columns]\n"
          ]
        }
      ]
    },
    {
      "cell_type": "code",
      "source": [
        "# Download the updated file\n",
        "files.download('bank-encoded.csv')"
      ],
      "metadata": {
        "colab": {
          "base_uri": "https://localhost:8080/",
          "height": 17
        },
        "id": "typ-pahrdp74",
        "outputId": "8f3f165f-86d2-46f0-921e-e8945165b072"
      },
      "execution_count": 18,
      "outputs": [
        {
          "output_type": "display_data",
          "data": {
            "text/plain": [
              "<IPython.core.display.Javascript object>"
            ],
            "application/javascript": [
              "\n",
              "    async function download(id, filename, size) {\n",
              "      if (!google.colab.kernel.accessAllowed) {\n",
              "        return;\n",
              "      }\n",
              "      const div = document.createElement('div');\n",
              "      const label = document.createElement('label');\n",
              "      label.textContent = `Downloading \"${filename}\": `;\n",
              "      div.appendChild(label);\n",
              "      const progress = document.createElement('progress');\n",
              "      progress.max = size;\n",
              "      div.appendChild(progress);\n",
              "      document.body.appendChild(div);\n",
              "\n",
              "      const buffers = [];\n",
              "      let downloaded = 0;\n",
              "\n",
              "      const channel = await google.colab.kernel.comms.open(id);\n",
              "      // Send a message to notify the kernel that we're ready.\n",
              "      channel.send({})\n",
              "\n",
              "      for await (const message of channel.messages) {\n",
              "        // Send a message to notify the kernel that we're ready.\n",
              "        channel.send({})\n",
              "        if (message.buffers) {\n",
              "          for (const buffer of message.buffers) {\n",
              "            buffers.push(buffer);\n",
              "            downloaded += buffer.byteLength;\n",
              "            progress.value = downloaded;\n",
              "          }\n",
              "        }\n",
              "      }\n",
              "      const blob = new Blob(buffers, {type: 'application/binary'});\n",
              "      const a = document.createElement('a');\n",
              "      a.href = window.URL.createObjectURL(blob);\n",
              "      a.download = filename;\n",
              "      div.appendChild(a);\n",
              "      a.click();\n",
              "      div.remove();\n",
              "    }\n",
              "  "
            ]
          },
          "metadata": {}
        },
        {
          "output_type": "display_data",
          "data": {
            "text/plain": [
              "<IPython.core.display.Javascript object>"
            ],
            "application/javascript": [
              "download(\"download_15087f3a-d8d5-4285-adc3-190c2a340b10\", \"bank-encoded.csv\", 5069040)"
            ]
          },
          "metadata": {}
        }
      ]
    },
    {
      "cell_type": "markdown",
      "source": [
        "###Pdays"
      ],
      "metadata": {
        "id": "vswHEVOwMDWr"
      }
    },
    {
      "cell_type": "code",
      "source": [
        "# Replace 999 with 0 and other values with 1 in the 'pdays' column\n",
        "data['pdays'] = data['pdays'].apply(lambda x: 0 if x == 999 else 1)\n",
        "\n",
        "# Reorder columns to display 'y' at the last\n",
        "columns = [col for col in data.columns if col != 'y'] + ['y']\n",
        "data = data[columns]\n",
        "\n",
        "# Save the updated dataset to a new CSV file\n",
        "encoded_file_path = 'bank-encoded-updated.csv'\n",
        "data.to_csv(encoded_file_path, index=False)\n",
        "\n",
        "# Display the first few rows of the updated dataset\n",
        "print(data.head())\n"
      ],
      "metadata": {
        "colab": {
          "base_uri": "https://localhost:8080/"
        },
        "id": "8Yy56L-eMMgI",
        "outputId": "53b366da-a4bc-4002-c86e-feabdabaaf84"
      },
      "execution_count": 18,
      "outputs": [
        {
          "output_type": "stream",
          "name": "stdout",
          "text": [
            "   age  campaign  pdays  previous  emp.var.rate  cons.price.idx  \\\n",
            "0   56         1      0         0           1.1          93.994   \n",
            "1   57         1      0         0           1.1          93.994   \n",
            "2   37         1      0         0           1.1          93.994   \n",
            "3   40         1      0         0           1.1          93.994   \n",
            "4   56         1      0         0           1.1          93.994   \n",
            "\n",
            "   cons.conf.idx  euribor3m  nr.employed  marital_married  ...  month_mar  \\\n",
            "0          -36.4      4.857       5191.0                1  ...          0   \n",
            "1          -36.4      4.857       5191.0                1  ...          0   \n",
            "2          -36.4      4.857       5191.0                1  ...          0   \n",
            "3          -36.4      4.857       5191.0                1  ...          0   \n",
            "4          -36.4      4.857       5191.0                1  ...          0   \n",
            "\n",
            "   month_may  month_nov  month_oct  month_sep  day_of_week_mon  \\\n",
            "0          1          0          0          0                1   \n",
            "1          1          0          0          0                1   \n",
            "2          1          0          0          0                1   \n",
            "3          1          0          0          0                1   \n",
            "4          1          0          0          0                1   \n",
            "\n",
            "   day_of_week_thu  day_of_week_tue  day_of_week_wed  y  \n",
            "0                0                0                0  0  \n",
            "1                0                0                0  0  \n",
            "2                0                0                0  0  \n",
            "3                0                0                0  0  \n",
            "4                0                0                0  0  \n",
            "\n",
            "[5 rows x 50 columns]\n"
          ]
        }
      ]
    },
    {
      "cell_type": "code",
      "source": [
        "# Download the updated file\n",
        "files.download('bank-encoded-updated.csv')"
      ],
      "metadata": {
        "id": "KF6EHKf4Mo4L",
        "colab": {
          "base_uri": "https://localhost:8080/",
          "height": 17
        },
        "outputId": "8b179c9e-7be5-4fe1-d78b-f19bea20a544"
      },
      "execution_count": 20,
      "outputs": [
        {
          "output_type": "display_data",
          "data": {
            "text/plain": [
              "<IPython.core.display.Javascript object>"
            ],
            "application/javascript": [
              "\n",
              "    async function download(id, filename, size) {\n",
              "      if (!google.colab.kernel.accessAllowed) {\n",
              "        return;\n",
              "      }\n",
              "      const div = document.createElement('div');\n",
              "      const label = document.createElement('label');\n",
              "      label.textContent = `Downloading \"${filename}\": `;\n",
              "      div.appendChild(label);\n",
              "      const progress = document.createElement('progress');\n",
              "      progress.max = size;\n",
              "      div.appendChild(progress);\n",
              "      document.body.appendChild(div);\n",
              "\n",
              "      const buffers = [];\n",
              "      let downloaded = 0;\n",
              "\n",
              "      const channel = await google.colab.kernel.comms.open(id);\n",
              "      // Send a message to notify the kernel that we're ready.\n",
              "      channel.send({})\n",
              "\n",
              "      for await (const message of channel.messages) {\n",
              "        // Send a message to notify the kernel that we're ready.\n",
              "        channel.send({})\n",
              "        if (message.buffers) {\n",
              "          for (const buffer of message.buffers) {\n",
              "            buffers.push(buffer);\n",
              "            downloaded += buffer.byteLength;\n",
              "            progress.value = downloaded;\n",
              "          }\n",
              "        }\n",
              "      }\n",
              "      const blob = new Blob(buffers, {type: 'application/binary'});\n",
              "      const a = document.createElement('a');\n",
              "      a.href = window.URL.createObjectURL(blob);\n",
              "      a.download = filename;\n",
              "      div.appendChild(a);\n",
              "      a.click();\n",
              "      div.remove();\n",
              "    }\n",
              "  "
            ]
          },
          "metadata": {}
        },
        {
          "output_type": "display_data",
          "data": {
            "text/plain": [
              "<IPython.core.display.Javascript object>"
            ],
            "application/javascript": [
              "download(\"download_8e99514a-8b3d-44d8-9b1f-0bfba8d81120\", \"bank-encoded-updated.csv\", 4989462)"
            ]
          },
          "metadata": {}
        }
      ]
    },
    {
      "cell_type": "markdown",
      "source": [
        "###Class Imbalance"
      ],
      "metadata": {
        "id": "qoxxbH2T41UT"
      }
    },
    {
      "cell_type": "code",
      "source": [
        "import pandas as pd\n",
        "import matplotlib.pyplot as plt"
      ],
      "metadata": {
        "id": "HZ3AOEFU40AZ"
      },
      "execution_count": 19,
      "outputs": []
    },
    {
      "cell_type": "code",
      "source": [
        "# Load the scaled dataset\n",
        "data = pd.read_csv('bank-encoded-updated.csv')\n",
        "\n",
        "# Check the distribution of the target variable 'y'\n",
        "target_counts = data['y'].value_counts()\n",
        "\n",
        "# Display the counts for each class\n",
        "print(target_counts)\n",
        "\n",
        "# Visualize the class distribution using a pie chart\n",
        "plt.figure(figsize=(6, 6))\n",
        "plt.pie(target_counts, labels=target_counts.index, autopct='%1.1f%%', startangle=90, colors=['skyblue', 'salmon'])\n",
        "plt.title('Class Distribution of Target Variable (y)')\n",
        "plt.show()"
      ],
      "metadata": {
        "colab": {
          "base_uri": "https://localhost:8080/",
          "height": 590
        },
        "id": "RM0_3rDR6XKo",
        "outputId": "5b1df142-af52-47b4-cdb7-7f15cb473b42"
      },
      "execution_count": 20,
      "outputs": [
        {
          "output_type": "stream",
          "name": "stdout",
          "text": [
            "y\n",
            "0    36537\n",
            "1     4639\n",
            "Name: count, dtype: int64\n"
          ]
        },
        {
          "output_type": "display_data",
          "data": {
            "text/plain": [
              "<Figure size 600x600 with 1 Axes>"
            ],
            "image/png": "[encoded data removed]"
          },
          "metadata": {}
        }
      ]
    },
    {
      "cell_type": "markdown",
      "source": [
        "###Fix Imbalances"
      ],
      "metadata": {
        "id": "fFa2vOFaZzBQ"
      }
    },
    {
      "cell_type": "code",
      "source": [
        "from imblearn.over_sampling import SMOTE\n",
        "import pandas as pd\n",
        "import matplotlib.pyplot as plt"
      ],
      "metadata": {
        "id": "FxRIVFJtbQ6m"
      },
      "execution_count": 21,
      "outputs": []
    },
    {
      "cell_type": "code",
      "source": [
        "# Load the dataset\n",
        "data = pd.read_csv('bank-encoded-updated.csv')\n",
        "\n",
        "# Separate features and target variable\n",
        "X = data.drop('y', axis=1)\n",
        "y = data['y']\n",
        "\n",
        "# Apply SMOTE to balance the dataset\n",
        "smote = SMOTE(random_state=42)\n",
        "X_resampled, y_resampled = smote.fit_resample(X, y)\n",
        "\n",
        "# Combine resampled features and target into a new DataFrame\n",
        "balanced_data = pd.concat([pd.DataFrame(X_resampled, columns=X.columns), pd.DataFrame(y_resampled, columns=['y'])], axis=1)\n",
        "\n",
        "# Save the balanced dataset to a new CSV file\n",
        "balanced_file_path = 'bank-balanced.csv'\n",
        "balanced_data.to_csv(balanced_file_path, index=False)\n",
        "\n",
        "# Verify the class distribution after SMOTE\n",
        "target_counts_resampled = y_resampled.value_counts()\n",
        "print(\"Class distribution after SMOTE:\")\n",
        "print(target_counts_resampled)\n",
        "\n",
        "# Visualize the new class distribution using a pie chart\n",
        "plt.figure(figsize=(6, 6))\n",
        "plt.pie(target_counts_resampled, labels=target_counts_resampled.index, autopct='%1.1f%%', startangle=90, colors=['skyblue', 'salmon'])\n",
        "plt.title('Class Distribution After SMOTE')\n",
        "plt.show()\n"
      ],
      "metadata": {
        "colab": {
          "base_uri": "https://localhost:8080/",
          "height": 697
        },
        "id": "aCnuN2lRZ3fj",
        "outputId": "a41e469a-1470-4e8f-85ec-09e7b3292b3f"
      },
      "execution_count": 22,
      "outputs": [
        {
          "output_type": "stream",
          "name": "stderr",
          "text": [
            "/usr/local/lib/python3.10/dist-packages/sklearn/base.py:474: FutureWarning: `BaseEstimator._validate_data` is deprecated in 1.6 and will be removed in 1.7. Use `sklearn.utils.validation.validate_data` instead. This function becomes public and is part of the scikit-learn developer API.\n",
            "  warnings.warn(\n",
            "/usr/local/lib/python3.10/dist-packages/sklearn/utils/_tags.py:354: FutureWarning: The SMOTE or classes from which it inherits use `_get_tags` and `_more_tags`. Please define the `__sklearn_tags__` method, or inherit from `sklearn.base.BaseEstimator` and/or other appropriate mixins such as `sklearn.base.TransformerMixin`, `sklearn.base.ClassifierMixin`, `sklearn.base.RegressorMixin`, and `sklearn.base.OutlierMixin`. From scikit-learn 1.7, not defining `__sklearn_tags__` will raise an error.\n",
            "  warnings.warn(\n"
          ]
        },
        {
          "output_type": "stream",
          "name": "stdout",
          "text": [
            "Class distribution after SMOTE:\n",
            "y\n",
            "0    36537\n",
            "1    36537\n",
            "Name: count, dtype: int64\n"
          ]
        },
        {
          "output_type": "display_data",
          "data": {
            "text/plain": [
              "<Figure size 600x600 with 1 Axes>"
            ],
            "image/png": "[encoded data removed]"
          },
          "metadata": {}
        }
      ]
    },
    {
      "cell_type": "code",
      "source": [
        "# Download the updated file\n",
        "files.download('bank-balanced.csv')"
      ],
      "metadata": {
        "id": "zH0uwE6Wes-7"
      },
      "execution_count": null,
      "outputs": []
    },
    {
      "cell_type": "markdown",
      "source": [
        "###Re-Check Duplicates"
      ],
      "metadata": {
        "id": "-0uvewDAbhdY"
      }
    },
    {
      "cell_type": "code",
      "source": [
        "# Check for duplicate rows\n",
        "data = pd.read_csv('bank-balanced.csv')\n",
        "duplicate_count = data.duplicated().sum()\n",
        "print(f\"Number of duplicate rows: {duplicate_count}\")\n",
        "\n",
        "# Drop duplicate rows\n",
        "data = data.drop_duplicates()\n",
        "\n",
        "# Save the dataset after removing duplicates to another CSV file\n",
        "duplicates_handled_file_path = 're-duplicates-handled.csv'\n",
        "data.to_csv(duplicates_handled_file_path, index=False)\n",
        "\n",
        "# Display the first few rows of the dataset after handling duplicates\n",
        "print(data.head())"
      ],
      "metadata": {
        "colab": {
          "base_uri": "https://localhost:8080/"
        },
        "id": "BKA2Rtx1boEx",
        "outputId": "0daf2037-0b6d-4caf-f528-5870b59fba67"
      },
      "execution_count": 23,
      "outputs": [
        {
          "output_type": "stream",
          "name": "stdout",
          "text": [
            "Number of duplicate rows: 7334\n",
            "   age  campaign  pdays  previous  emp.var.rate  cons.price.idx  \\\n",
            "0   56         1      0         0           1.1          93.994   \n",
            "1   57         1      0         0           1.1          93.994   \n",
            "2   37         1      0         0           1.1          93.994   \n",
            "3   40         1      0         0           1.1          93.994   \n",
            "4   56         1      0         0           1.1          93.994   \n",
            "\n",
            "   cons.conf.idx  euribor3m  nr.employed  marital_married  ...  month_mar  \\\n",
            "0          -36.4      4.857       5191.0                1  ...          0   \n",
            "1          -36.4      4.857       5191.0                1  ...          0   \n",
            "2          -36.4      4.857       5191.0                1  ...          0   \n",
            "3          -36.4      4.857       5191.0                1  ...          0   \n",
            "4          -36.4      4.857       5191.0                1  ...          0   \n",
            "\n",
            "   month_may  month_nov  month_oct  month_sep  day_of_week_mon  \\\n",
            "0          1          0          0          0                1   \n",
            "1          1          0          0          0                1   \n",
            "2          1          0          0          0                1   \n",
            "3          1          0          0          0                1   \n",
            "4          1          0          0          0                1   \n",
            "\n",
            "   day_of_week_thu  day_of_week_tue  day_of_week_wed  y  \n",
            "0                0                0                0  0  \n",
            "1                0                0                0  0  \n",
            "2                0                0                0  0  \n",
            "3                0                0                0  0  \n",
            "4                0                0                0  0  \n",
            "\n",
            "[5 rows x 50 columns]\n"
          ]
        }
      ]
    },
    {
      "cell_type": "code",
      "source": [
        "# Download the updated file\n",
        "files.download('re-duplicates-handled.csv')"
      ],
      "metadata": {
        "colab": {
          "base_uri": "https://localhost:8080/",
          "height": 17
        },
        "id": "p9Jz4g-Ke3fj",
        "outputId": "87cd2988-753a-49ac-9cda-587fb381e0f1"
      },
      "execution_count": 50,
      "outputs": [
        {
          "output_type": "display_data",
          "data": {
            "text/plain": [
              "<IPython.core.display.Javascript object>"
            ],
            "application/javascript": [
              "\n",
              "    async function download(id, filename, size) {\n",
              "      if (!google.colab.kernel.accessAllowed) {\n",
              "        return;\n",
              "      }\n",
              "      const div = document.createElement('div');\n",
              "      const label = document.createElement('label');\n",
              "      label.textContent = `Downloading \"${filename}\": `;\n",
              "      div.appendChild(label);\n",
              "      const progress = document.createElement('progress');\n",
              "      progress.max = size;\n",
              "      div.appendChild(progress);\n",
              "      document.body.appendChild(div);\n",
              "\n",
              "      const buffers = [];\n",
              "      let downloaded = 0;\n",
              "\n",
              "      const channel = await google.colab.kernel.comms.open(id);\n",
              "      // Send a message to notify the kernel that we're ready.\n",
              "      channel.send({})\n",
              "\n",
              "      for await (const message of channel.messages) {\n",
              "        // Send a message to notify the kernel that we're ready.\n",
              "        channel.send({})\n",
              "        if (message.buffers) {\n",
              "          for (const buffer of message.buffers) {\n",
              "            buffers.push(buffer);\n",
              "            downloaded += buffer.byteLength;\n",
              "            progress.value = downloaded;\n",
              "          }\n",
              "        }\n",
              "      }\n",
              "      const blob = new Blob(buffers, {type: 'application/binary'});\n",
              "      const a = document.createElement('a');\n",
              "      a.href = window.URL.createObjectURL(blob);\n",
              "      a.download = filename;\n",
              "      div.appendChild(a);\n",
              "      a.click();\n",
              "      div.remove();\n",
              "    }\n",
              "  "
            ]
          },
          "metadata": {}
        },
        {
          "output_type": "display_data",
          "data": {
            "text/plain": [
              "<IPython.core.display.Javascript object>"
            ],
            "application/javascript": [
              "download(\"download_d1b6edf1-597f-4820-8dc2-91133faee772\", \"re-duplicates-handled.csv\", 8375993)"
            ]
          },
          "metadata": {}
        }
      ]
    },
    {
      "cell_type": "code",
      "source": [
        "# Load the scaled dataset\n",
        "data = pd.read_csv('re-duplicates-handled.csv')\n",
        "\n",
        "# Check the distribution of the target variable 'y'\n",
        "target_counts = data['y'].value_counts()\n",
        "\n",
        "# Display the counts for each class\n",
        "print(target_counts)\n",
        "\n",
        "# Visualize the class distribution using a pie chart\n",
        "plt.figure(figsize=(6, 6))\n",
        "plt.pie(target_counts, labels=target_counts.index, autopct='%1.1f%%', startangle=90, colors=['skyblue', 'salmon'])\n",
        "plt.title('Class Distribution of Target Variable (y)')\n",
        "plt.show()"
      ],
      "metadata": {
        "colab": {
          "base_uri": "https://localhost:8080/",
          "height": 590
        },
        "id": "bsdli-jOc-FU",
        "outputId": "05cd826c-7352-42cf-f1ed-622a8760d7b8"
      },
      "execution_count": 24,
      "outputs": [
        {
          "output_type": "stream",
          "name": "stdout",
          "text": [
            "y\n",
            "0    34395\n",
            "1    31345\n",
            "Name: count, dtype: int64\n"
          ]
        },
        {
          "output_type": "display_data",
          "data": {
            "text/plain": [
              "<Figure size 600x600 with 1 Axes>"
            ],
            "image/png": "[encoded data removed]"
          },
          "metadata": {}
        }
      ]
    },
    {
      "cell_type": "markdown",
      "source": [
        "###Feature Scaling"
      ],
      "metadata": {
        "id": "BA1gRcHkNq92"
      }
    },
    {
      "cell_type": "code",
      "source": [
        "import pandas as pd\n",
        "from sklearn.preprocessing import StandardScaler"
      ],
      "metadata": {
        "id": "xrTG1tsj2ulo"
      },
      "execution_count": 25,
      "outputs": []
    },
    {
      "cell_type": "code",
      "source": [
        "# Load the dataset\n",
        "data = pd.read_csv('re-duplicates-handled.csv')\n",
        "\n",
        "# Identify numerical columns for scaling\n",
        "numerical_columns = data.select_dtypes(include=['int64', 'float64']).columns\n",
        "\n",
        "# Apply StandardScaler to scale numerical features\n",
        "scaler = StandardScaler()\n",
        "data[numerical_columns] = scaler.fit_transform(data[numerical_columns])\n",
        "\n",
        "# Save the scaled dataset to a new CSV file\n",
        "scaled_file_path = 'bank-scaled.csv'\n",
        "data.to_csv(scaled_file_path, index=False)\n",
        "\n",
        "# Display the first few rows of the scaled dataset\n",
        "print(data.head())\n"
      ],
      "metadata": {
        "id": "tdNG1fL9O28O",
        "outputId": "439df729-7023-4751-ffc7-cc974522ebcc",
        "colab": {
          "base_uri": "https://localhost:8080/"
        }
      },
      "execution_count": 26,
      "outputs": [
        {
          "output_type": "stream",
          "name": "stdout",
          "text": [
            "        age  campaign     pdays  previous  emp.var.rate  cons.price.idx  \\\n",
            "0  1.305990 -0.534023 -0.304732 -0.426702      0.917265        0.791562   \n",
            "1  1.389690 -0.534023 -0.304732 -0.426702      0.917265        0.791562   \n",
            "2 -0.284306 -0.534023 -0.304732 -0.426702      0.917265        0.791562   \n",
            "3 -0.033206 -0.534023 -0.304732 -0.426702      0.917265        0.791562   \n",
            "4  1.305990 -0.534023 -0.304732 -0.426702      0.917265        0.791562   \n",
            "\n",
            "   cons.conf.idx  euribor3m  nr.employed  marital_married  ...  month_mar  \\\n",
            "0       0.697334   0.993253     0.634915         0.931145  ...  -0.163812   \n",
            "1       0.697334   0.993253     0.634915         0.931145  ...  -0.163812   \n",
            "2       0.697334   0.993253     0.634915         0.931145  ...  -0.163812   \n",
            "3       0.697334   0.993253     0.634915         0.931145  ...  -0.163812   \n",
            "4       0.697334   0.993253     0.634915         0.931145  ...  -0.163812   \n",
            "\n",
            "   month_may  month_nov  month_oct  month_sep  day_of_week_mon  \\\n",
            "0   1.639094  -0.310715  -0.197334  -0.175025         2.411192   \n",
            "1   1.639094  -0.310715  -0.197334  -0.175025         2.411192   \n",
            "2   1.639094  -0.310715  -0.197334  -0.175025         2.411192   \n",
            "3   1.639094  -0.310715  -0.197334  -0.175025         2.411192   \n",
            "4   1.639094  -0.310715  -0.197334  -0.175025         2.411192   \n",
            "\n",
            "   day_of_week_thu  day_of_week_tue  day_of_week_wed         y  \n",
            "0         -0.42648        -0.410365        -0.413397 -0.954633  \n",
            "1         -0.42648        -0.410365        -0.413397 -0.954633  \n",
            "2         -0.42648        -0.410365        -0.413397 -0.954633  \n",
            "3         -0.42648        -0.410365        -0.413397 -0.954633  \n",
            "4         -0.42648        -0.410365        -0.413397 -0.954633  \n",
            "\n",
            "[5 rows x 50 columns]\n"
          ]
        }
      ]
    },
    {
      "cell_type": "code",
      "source": [
        "# Download the updated file\n",
        "files.download('bank-scaled.csv')"
      ],
      "metadata": {
        "colab": {
          "base_uri": "https://localhost:8080/",
          "height": 17
        },
        "id": "W0rztugnfHwg",
        "outputId": "fd184f72-b28b-4758-d244-f37edbe2ba52"
      },
      "execution_count": 27,
      "outputs": [
        {
          "output_type": "display_data",
          "data": {
            "text/plain": [
              "<IPython.core.display.Javascript object>"
            ],
            "application/javascript": [
              "\n",
              "    async function download(id, filename, size) {\n",
              "      if (!google.colab.kernel.accessAllowed) {\n",
              "        return;\n",
              "      }\n",
              "      const div = document.createElement('div');\n",
              "      const label = document.createElement('label');\n",
              "      label.textContent = `Downloading \"${filename}\": `;\n",
              "      div.appendChild(label);\n",
              "      const progress = document.createElement('progress');\n",
              "      progress.max = size;\n",
              "      div.appendChild(progress);\n",
              "      document.body.appendChild(div);\n",
              "\n",
              "      const buffers = [];\n",
              "      let downloaded = 0;\n",
              "\n",
              "      const channel = await google.colab.kernel.comms.open(id);\n",
              "      // Send a message to notify the kernel that we're ready.\n",
              "      channel.send({})\n",
              "\n",
              "      for await (const message of channel.messages) {\n",
              "        // Send a message to notify the kernel that we're ready.\n",
              "        channel.send({})\n",
              "        if (message.buffers) {\n",
              "          for (const buffer of message.buffers) {\n",
              "            buffers.push(buffer);\n",
              "            downloaded += buffer.byteLength;\n",
              "            progress.value = downloaded;\n",
              "          }\n",
              "        }\n",
              "      }\n",
              "      const blob = new Blob(buffers, {type: 'application/binary'});\n",
              "      const a = document.createElement('a');\n",
              "      a.href = window.URL.createObjectURL(blob);\n",
              "      a.download = filename;\n",
              "      div.appendChild(a);\n",
              "      a.click();\n",
              "      div.remove();\n",
              "    }\n",
              "  "
            ]
          },
          "metadata": {}
        },
        {
          "output_type": "display_data",
          "data": {
            "text/plain": [
              "<IPython.core.display.Javascript object>"
            ],
            "application/javascript": [
              "download(\"download_41ef1d16-3f9e-41c1-b955-764b148e32da\", \"bank-scaled.csv\", 66404794)"
            ]
          },
          "metadata": {}
        }
      ]
    }
  ]
}