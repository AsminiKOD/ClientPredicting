{
  "cells": [
    {
      "cell_type": "markdown",
      "metadata": {
        "id": "view-in-github",
        "colab_type": "text"
      },
      "source": [
        "<a href=\"https://colab.research.google.com/github/AsminiKOD/ClientPredicting/blob/RandomForest/Random_Forest.ipynb\" target=\"_parent\"><img src=\"https://colab.research.google.com/assets/colab-badge.svg\" alt=\"Open In Colab\"/></a>"
      ]
    },
    {
      "cell_type": "markdown",
      "metadata": {
        "id": "buUibxtqlKJ3"
      },
      "source": [
        "#Random Forest Model"
      ]
    },
    {
      "cell_type": "code",
      "execution_count": 1,
      "metadata": {
        "colab": {
          "base_uri": "https://localhost:8080/"
        },
        "id": "zdaJQqWNn5Sj",
        "outputId": "a7934348-8b5e-4b46-ab02-dcf994ef3e5e"
      },
      "outputs": [
        {
          "output_type": "stream",
          "name": "stdout",
          "text": [
            "Training Set Classification Report:\n",
            "              precision    recall  f1-score   support\n",
            "\n",
            "           0       1.00      1.00      1.00     27437\n",
            "           1       1.00      1.00      1.00     26763\n",
            "\n",
            "    accuracy                           1.00     54200\n",
            "   macro avg       1.00      1.00      1.00     54200\n",
            "weighted avg       1.00      1.00      1.00     54200\n",
            "\n",
            "Testing Set Classification Report:\n",
            "              precision    recall  f1-score   support\n",
            "\n",
            "           0       0.92      0.93      0.93      6860\n",
            "           1       0.93      0.92      0.92      6691\n",
            "\n",
            "    accuracy                           0.92     13551\n",
            "   macro avg       0.92      0.92      0.92     13551\n",
            "weighted avg       0.92      0.92      0.92     13551\n",
            "\n"
          ]
        }
      ],
      "source": [
        "from sklearn.ensemble import RandomForestClassifier\n",
        "from sklearn.model_selection import train_test_split, GridSearchCV\n",
        "from sklearn.metrics import classification_report\n",
        "import pandas as pd\n",
        "\n",
        "# Load the already SMOTED dataset\n",
        "file_path = 're-duplicates-handled.csv'\n",
        "data = pd.read_csv(file_path)\n",
        "\n",
        "# Separate features and target variable\n",
        "X = data.drop(columns=['y'])\n",
        "y = data['y']\n",
        "data.dropna(subset=['y'], inplace=True)\n",
        "\n",
        "\n",
        "# Separate features and target variable again after handling NaN\n",
        "X = data.drop(columns=['y'])\n",
        "y = data['y']\n",
        "\n",
        "# Split the dataset into training and testing sets\n",
        "X_train, X_test, y_train, y_test = train_test_split(X, y, test_size=0.2, random_state=42, stratify=y)\n",
        "\n",
        "# Define the Random Forest model with hyperparameter tuning\n",
        "param_grid = {\n",
        "    'n_estimators': [50, 100, 200],\n",
        "    'max_depth': [10, 20, None],\n",
        "    'min_samples_split': [2, 5, 10],\n",
        "    'min_samples_leaf': [1, 2, 4],\n",
        "    'max_features': ['sqrt', 'log2'],\n",
        "    'class_weight': ['balanced']\n",
        "}\n",
        "\n",
        "grid_search = GridSearchCV(RandomForestClassifier(random_state=42), param_grid, cv=3, scoring='f1', n_jobs=-1)\n",
        "grid_search.fit(X_train, y_train)\n",
        "\n",
        "# Get the best model\n",
        "best_rf_model = grid_search.best_estimator_\n",
        "\n",
        "# Evaluate the model on training and testing data\n",
        "y_train_pred = best_rf_model.predict(X_train)\n",
        "y_test_pred = best_rf_model.predict(X_test)\n",
        "\n",
        "train_report = classification_report(y_train, y_train_pred)\n",
        "test_report = classification_report(y_test, y_test_pred)\n",
        "\n",
        "print(\"Training Set Classification Report:\")\n",
        "print(train_report)\n",
        "\n",
        "print(\"Testing Set Classification Report:\")\n",
        "print(test_report)\n"
      ]
    }
  ],
  "metadata": {
    "colab": {
      "provenance": [],
      "authorship_tag": "ABX9TyMjLXihNxTFD2kNQki4MNXN",
      "include_colab_link": true
    },
    "kernelspec": {
      "display_name": "Python 3",
      "name": "python3"
    },
    "language_info": {
      "name": "python"
    }
  },
  "nbformat": 4,
  "nbformat_minor": 0
}