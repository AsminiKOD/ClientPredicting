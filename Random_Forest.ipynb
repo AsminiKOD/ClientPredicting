{
  "cells": [
    {
      "cell_type": "markdown",
      "metadata": {
        "id": "view-in-github",
        "colab_type": "text"
      },
      "source": [
        "<a href=\"https://colab.research.google.com/github/AsminiKOD/ClientPredicting/blob/RandomForest/Random_Forest.ipynb\" target=\"_parent\"><img src=\"https://colab.research.google.com/assets/colab-badge.svg\" alt=\"Open In Colab\"/></a>"
      ]
    },
    {
      "cell_type": "markdown",
      "metadata": {
        "id": "buUibxtqlKJ3"
      },
      "source": [
        "#Random Forest Model"
      ]
    },
    {
      "cell_type": "code",
      "source": [
        "from sklearn.ensemble import RandomForestClassifier\n",
        "from sklearn.model_selection import train_test_split\n",
        "from sklearn.metrics import classification_report, roc_auc_score\n",
        "from imblearn.over_sampling import SMOTE\n",
        "import pandas as pd\n",
        "\n",
        "# Load the dataset\n",
        "file_path = 're-duplicates-handled.csv'\n",
        "data = pd.read_csv(file_path)\n",
        "\n",
        "# Drop rows with NaN in the target variable\n",
        "data.dropna(subset=['y'], inplace=True)\n",
        "\n",
        "# Separate features and target variable\n",
        "X = data.drop(columns=['y'])\n",
        "y = data['y']\n",
        "\n",
        "# Split the dataset into training and testing sets\n",
        "X_train, X_test, y_train, y_test = train_test_split(X, y, test_size=0.2, random_state=42, stratify=y)\n",
        "\n",
        "# Apply SMOTE with reduced sampling strategy and neighbors\n",
        "smote = SMOTE(random_state=42, sampling_strategy=0.4, k_neighbors=7)\n",
        "X_train_resampled, y_train_resampled = smote.fit_resample(X_train, y_train)\n",
        "\n",
        "# Define and train the Random Forest model with optimized hyperparameters\n",
        "rf_model = RandomForestClassifier(\n",
        "    random_state=42,\n",
        "    n_estimators=100,\n",
        "    max_depth=50,\n",
        "    min_samples_split=10,\n",
        "    min_samples_leaf=5,\n",
        "    max_features='log2',\n",
        "    class_weight='balanced',\n",
        "    min_impurity_decrease=0.00001,\n",
        "    bootstrap=True,\n",
        "    oob_score=True,\n",
        ")\n",
        "\n",
        "rf_model.fit(X_train_resampled, y_train_resampled)\n",
        "\n",
        "# Evaluate the model on training and testing data\n",
        "y_train_pred = rf_model.predict(X_train_resampled)\n",
        "y_test_pred = rf_model.predict(X_test)\n",
        "\n",
        "y_train_proba = rf_model.predict_proba(X_train_resampled)[:, 1]\n",
        "y_test_proba = rf_model.predict_proba(X_test)[:, 1]\n",
        "\n",
        "test_auc = roc_auc_score(y_test, y_test_proba)\n",
        "\n",
        "train_report = classification_report(y_train_resampled, y_train_pred)\n",
        "test_report = classification_report(y_test, y_test_pred)\n",
        "\n",
        "print(\"Training Set Classification Report:\")\n",
        "print(train_report)\n",
        "\n",
        "print(\"Testing Set Classification Report:\")\n",
        "print(test_report)\n",
        "print(f\"Testing Set ROC AUC Score: {test_auc:.3f}\")\n"
      ],
      "metadata": {
        "colab": {
          "base_uri": "https://localhost:8080/"
        },
        "id": "O4fAlddRgDDh",
        "outputId": "3ca23686-5bfc-43b4-91bb-12a06b1f685c"
      },
      "execution_count": 3,
      "outputs": [
        {
          "output_type": "stream",
          "name": "stderr",
          "text": [
            "/usr/local/lib/python3.10/dist-packages/sklearn/base.py:474: FutureWarning: `BaseEstimator._validate_data` is deprecated in 1.6 and will be removed in 1.7. Use `sklearn.utils.validation.validate_data` instead. This function becomes public and is part of the scikit-learn developer API.\n",
            "  warnings.warn(\n",
            "/usr/local/lib/python3.10/dist-packages/sklearn/utils/_tags.py:354: FutureWarning: The SMOTE or classes from which it inherits use `_get_tags` and `_more_tags`. Please define the `__sklearn_tags__` method, or inherit from `sklearn.base.BaseEstimator` and/or other appropriate mixins such as `sklearn.base.TransformerMixin`, `sklearn.base.ClassifierMixin`, `sklearn.base.RegressorMixin`, and `sklearn.base.OutlierMixin`. From scikit-learn 1.7, not defining `__sklearn_tags__` will raise an error.\n",
            "  warnings.warn(\n"
          ]
        },
        {
          "output_type": "stream",
          "name": "stdout",
          "text": [
            "Training Set Classification Report:\n",
            "              precision    recall  f1-score   support\n",
            "\n",
            "           0       0.92      0.89      0.91     27438\n",
            "           1       0.75      0.81      0.78     10975\n",
            "\n",
            "    accuracy                           0.87     38413\n",
            "   macro avg       0.84      0.85      0.84     38413\n",
            "weighted avg       0.87      0.87      0.87     38413\n",
            "\n",
            "Testing Set Classification Report:\n",
            "              precision    recall  f1-score   support\n",
            "\n",
            "           0       0.94      0.89      0.91      6859\n",
            "           1       0.42      0.61      0.50       917\n",
            "\n",
            "    accuracy                           0.85      7776\n",
            "   macro avg       0.68      0.75      0.71      7776\n",
            "weighted avg       0.88      0.85      0.87      7776\n",
            "\n",
            "Testing Set ROC AUC Score: 0.795\n"
          ]
        }
      ]
    },
    {
      "cell_type": "markdown",
      "source": [
        "###Visualization"
      ],
      "metadata": {
        "id": "bTm0uN_yq1rH"
      }
    },
    {
      "cell_type": "code",
      "source": [
        "from sklearn.metrics import confusion_matrix\n",
        "import seaborn as sns\n",
        "import matplotlib.pyplot as plt\n",
        "\n",
        "# Confusion Matrix for Test Set\n",
        "conf_matrix = confusion_matrix(y_test, y_test_pred)\n",
        "\n",
        "# Plot the confusion matrix\n",
        "plt.figure(figsize=(8, 6))\n",
        "sns.heatmap(conf_matrix, annot=True, fmt='d', cmap='Blues', xticklabels=rf_model.classes_, yticklabels=rf_model.classes_)\n",
        "plt.title('Confusion Matrix - Test Set')\n",
        "plt.xlabel('Predicted')\n",
        "plt.ylabel('Actual')\n",
        "plt.show()\n"
      ],
      "metadata": {
        "colab": {
          "base_uri": "https://localhost:8080/",
          "height": 539
        },
        "id": "_slmRIaaqzQZ",
        "outputId": "d92508f2-b864-4f15-a23f-daeb904490f5"
      },
      "execution_count": 7,
      "outputs": [
        {
          "output_type": "display_data",
          "data": {
            "text/plain": [
              "<Figure size 800x600 with 2 Axes>"
            ],
            "image/png": "[encoded data removed]"
          },
          "metadata": {}
        }
      ]
    }
  ],
  "metadata": {
    "colab": {
      "provenance": [],
      "authorship_tag": "ABX9TyM4mJWv2fuGP0Aw+iWesaTj",
      "include_colab_link": true
    },
    "kernelspec": {
      "display_name": "Python 3",
      "name": "python3"
    },
    "language_info": {
      "name": "python"
    }
  },
  "nbformat": 4,
  "nbformat_minor": 0
}